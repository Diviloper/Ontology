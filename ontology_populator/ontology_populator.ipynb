{
 "cells": [
  {
   "cell_type": "code",
   "execution_count": 63,
   "metadata": {
    "collapsed": true,
    "ExecuteTime": {
     "start_time": "2023-04-10T22:41:53.593848Z",
     "end_time": "2023-04-10T22:41:53.601847Z"
    }
   },
   "outputs": [],
   "source": [
    "from owlrl import DeductiveClosure, OWLRL_Semantics\n",
    "from rdflib import *\n",
    "from rdflib.extras.infixowl import Restriction"
   ]
  },
  {
   "cell_type": "code",
   "execution_count": 111,
   "outputs": [],
   "source": [
    "g = Graph()\n",
    "g.parse(r'../ontologies/ontology_turtle.ttl')\n",
    "# g.parse(r'../ontologies/BIGOWLData.owl')\n",
    "# g.parse(r'../ontologies/BIGOWLProblems.owl')\n",
    "# g.parse(r'../ontologies/BIGOWLAlgorithms.owl')\n",
    "# g.parse(r'../ontologies/BIGOWLWorkflows.owl')\n",
    "# g.parse(r'../dataset_annotator/penguins_annotated.ttl')\n",
    "# g.parse(r'../dataset_annotator/titanic_annotated.ttl')\n",
    "\n",
    "bigowl_data = Namespace('https://w3id.org/BIGOWLData/')\n",
    "bigowl_algorithms = Namespace('https://w3id.org/BIGOWLAlgorithms/')\n",
    "bigowl_problems = Namespace('https://w3id.org/BIGOWLProblems/')\n",
    "bigowl_workflows = Namespace('https://w3id.org/BIGOWLWorkflows/')\n",
    "do = Namespace('https://diviloper.dev/ontology#')\n",
    "abox = Namespace('https://diviloper.dev/ABox#')\n",
    "dmop = Namespace('http://www.e-lico.eu/ontologies/dmo/DMOP/DMOP.owl#')"
   ],
   "metadata": {
    "collapsed": false,
    "ExecuteTime": {
     "start_time": "2023-04-11T02:35:07.969374Z",
     "end_time": "2023-04-11T02:35:07.982373Z"
    }
   }
  },
  {
   "cell_type": "code",
   "execution_count": 112,
   "outputs": [
    {
     "data": {
      "text/plain": "<Graph identifier=Nabfc29fb97cd4c479cfb633900d500da (<class 'rdflib.graph.Graph'>)>"
     },
     "execution_count": 112,
     "metadata": {},
     "output_type": "execute_result"
    }
   ],
   "source": [
    "# DataSet Format\n",
    "g.add((do.fileFormat, RDF.type, OWL.DatatypeProperty))\n",
    "g.add((do.fileFormat, RDFS.domain, bigowl_data.DataSet))\n",
    "g.add((do.fileFormat, RDFS.range, XSD.string))\n",
    "\n",
    "g.add((do.Import_CSV, do.fileFormat, Literal('csv')))"
   ],
   "metadata": {
    "collapsed": false,
    "ExecuteTime": {
     "start_time": "2023-04-11T02:35:08.324553Z",
     "end_time": "2023-04-11T02:35:08.344503Z"
    }
   }
  },
  {
   "cell_type": "code",
   "execution_count": 113,
   "outputs": [
    {
     "data": {
      "text/plain": "<Graph identifier=Nabfc29fb97cd4c479cfb633900d500da (<class 'rdflib.graph.Graph'>)>"
     },
     "execution_count": 113,
     "metadata": {},
     "output_type": "execute_result"
    }
   ],
   "source": [
    "# Parameter Value\n",
    "g.add((do.ParameterValue, RDF.type, OWL.Class))\n",
    "g.add((do.forParameter, RDF.type, OWL.ObjectProperty))\n",
    "g.add((do.forParameter, RDFS.domain, do.ParameterValue))\n",
    "g.add((do.forParameter, RDFS.range, dmop.Parameter))\n",
    "g.add((do.hasValue, RDF.type, OWL.DatatypeProperty))\n",
    "g.add((do.hasValue, RDFS.domain, do.ParameterValue))\n",
    "g.add((do.hasParameterValue, RDF.type, OWL.ObjectProperty))\n",
    "g.add((do.hasParameterValue, RDFS.range, dmop.Parameter))"
   ],
   "metadata": {
    "collapsed": false,
    "ExecuteTime": {
     "start_time": "2023-04-11T02:35:08.738638Z",
     "end_time": "2023-04-11T02:35:08.753640Z"
    }
   }
  },
  {
   "cell_type": "code",
   "execution_count": 114,
   "outputs": [
    {
     "data": {
      "text/plain": "<Graph identifier=Nabfc29fb97cd4c479cfb633900d500da (<class 'rdflib.graph.Graph'>)>"
     },
     "execution_count": 114,
     "metadata": {},
     "output_type": "execute_result"
    }
   ],
   "source": [
    "# Tabular Dataset with Unique Columns\n",
    "g.add((do.UniqueTabularDataset, RDFS.subClassOf, do.TabularDataset))\n",
    "Restriction(do.isUnique, value=Literal('true', datatype=XSD.boolean), graph=g, identifier=do.UniqueColumnRestriction)\n",
    "Restriction(bigowl_data.hasColumn, someValuesFrom=do.UniqueColumnRestriction, graph=g, identifier=do.UniqueTabularDatasetRestriction)\n",
    "g.add((do.UniqueTabularDataset, OWL.equivalentClass, do.UniqueTabularDatasetRestriction))"
   ],
   "metadata": {
    "collapsed": false,
    "ExecuteTime": {
     "start_time": "2023-04-11T02:35:09.611379Z",
     "end_time": "2023-04-11T02:35:09.630422Z"
    }
   }
  },
  {
   "cell_type": "code",
   "execution_count": 115,
   "outputs": [
    {
     "data": {
      "text/plain": "<Graph identifier=Nabfc29fb97cd4c479cfb633900d500da (<class 'rdflib.graph.Graph'>)>"
     },
     "execution_count": 115,
     "metadata": {},
     "output_type": "execute_result"
    }
   ],
   "source": [
    "# Tabular Dataset with Categorical Columns\n",
    "g.add((do.CategoricalTabularDataset, RDFS.subClassOf, do.TabularDataset))\n",
    "Restriction(do.isCategorical, value=Literal('true', datatype=XSD.boolean), graph=g, identifier=do.CategoricalColumnRestriction)\n",
    "Restriction(bigowl_data.hasColumn, someValuesFrom=do.CategoricalColumnRestriction, graph=g, identifier=do.CategoricalTabularDatasetRestriction)\n",
    "g.add((do.CategoricalTabularDataset, OWL.equivalentClass, do.CategoricalTabularDatasetRestriction))"
   ],
   "metadata": {
    "collapsed": false,
    "ExecuteTime": {
     "start_time": "2023-04-11T02:35:10.359648Z",
     "end_time": "2023-04-11T02:35:10.380910Z"
    }
   }
  },
  {
   "cell_type": "code",
   "execution_count": 116,
   "outputs": [
    {
     "data": {
      "text/plain": "<Graph identifier=Nabfc29fb97cd4c479cfb633900d500da (<class 'rdflib.graph.Graph'>)>"
     },
     "execution_count": 116,
     "metadata": {},
     "output_type": "execute_result"
    }
   ],
   "source": [
    "# Input/Output specification of TabularAggregator\n",
    "g.add((do.TabularAggregator, bigowl_workflows.specifiesInputClass, do.TabularDataset))\n",
    "g.add((do.TabularAggregator, bigowl_workflows.specifiesOutputClass, do.UniqueTabularDataset))"
   ],
   "metadata": {
    "collapsed": false,
    "ExecuteTime": {
     "start_time": "2023-04-11T02:35:10.874018Z",
     "end_time": "2023-04-11T02:35:10.881018Z"
    }
   }
  },
  {
   "cell_type": "code",
   "execution_count": 117,
   "outputs": [
    {
     "data": {
      "text/plain": "<Graph identifier=Nabfc29fb97cd4c479cfb633900d500da (<class 'rdflib.graph.Graph'>)>"
     },
     "execution_count": 117,
     "metadata": {},
     "output_type": "execute_result"
    }
   ],
   "source": [
    "# Algorithms\n",
    "g.add((do.ClusteringAlgorithm, RDFS.subClassOf, bigowl_algorithms.DataAnalysingAlgorithm))\n",
    "g.add((do.KMeans, RDF.type, do.ClusteringAlgorithm))\n",
    "g.add((do.KMeans, bigowl_algorithms.solves, do.Clustering))\n",
    "g.add((do.DBSCAN, RDF.type, do.ClusteringAlgorithm))\n",
    "g.add((do.DBSCAN, bigowl_algorithms.solves, do.Clustering))\n",
    "g.add((do.MixtureGaussian, RDF.type, do.ClusteringAlgorithm))\n",
    "g.add((do.MixtureGaussian, bigowl_algorithms.solves, do.Clustering))\n",
    "\n",
    "g.add((do.Classification, do.subProblemOf, do.Describe))\n",
    "g.add((do.ClassificationAlgorithms, RDFS.subClassOf, bigowl_algorithms.DataAnalysingAlgorithm))\n",
    "g.add((do.KNN, RDF.type, do.ClassificationAlgorithms))\n",
    "g.add((do.KNN, bigowl_algorithms.solves, do.Classification))\n",
    "g.add((do.DecisionTree, RDF.type, do.ClassificationAlgorithms))\n",
    "g.add((do.DecisionTree, bigowl_algorithms.solves, do.Classification))\n",
    "g.add((do.RandomForest, RDF.type, do.ClassificationAlgorithms))\n",
    "g.add((do.RandomForest, bigowl_algorithms.solves, do.Classification))\n",
    "g.add((do.LogisticRegression, RDF.type, do.ClassificationAlgorithms))\n",
    "g.add((do.LogisticRegression, bigowl_algorithms.solves, do.Classification))"
   ],
   "metadata": {
    "collapsed": false,
    "ExecuteTime": {
     "start_time": "2023-04-11T02:35:12.157255Z",
     "end_time": "2023-04-11T02:35:12.185750Z"
    }
   }
  },
  {
   "cell_type": "code",
   "execution_count": 87,
   "outputs": [
    {
     "data": {
      "text/plain": "<Graph identifier=N0a5e04f630f44559ae5812e038beda4f (<class 'rdflib.graph.Graph'>)>"
     },
     "execution_count": 87,
     "metadata": {},
     "output_type": "execute_result"
    }
   ],
   "source": [
    "# SubComponent Property\n",
    "g.add((do.subComponentOf, RDF.type, OWL.ObjectProperty))\n",
    "g.add((do.subComponentOf, RDFS.domain, bigowl_workflows.Component))\n",
    "g.add((do.subComponentOf, RDFS.range, bigowl_workflows.Component))\n",
    "\n",
    "g.add((do.subComponentConnectedTo, RDF.type, OWL.ObjectProperty))\n",
    "g.add((do.subComponentConnectedTo, RDFS.domain, bigowl_workflows.Component))\n",
    "g.add((do.subComponentConnectedTo, RDFS.range, bigowl_workflows.Component))"
   ],
   "metadata": {
    "collapsed": false,
    "ExecuteTime": {
     "start_time": "2023-04-11T00:34:45.605987Z",
     "end_time": "2023-04-11T00:34:45.654810Z"
    }
   }
  },
  {
   "cell_type": "code",
   "execution_count": null,
   "outputs": [],
   "source": [
    "# KNN Component\n",
    "g.add((do.KNNComponent, RDF.type, bigowl_workflows.MachineLearning))\n",
    "g.add((do.KNNComponent, bigowl_workflows.numberOfInputs, Literal(2)))\n",
    "g.add((do.KNNComponent, bigowl_workflows.numberOfOutputs, Literal(3)))\n",
    "g.add((do.KNNComponent, bigowl_workflows.specifiesInputClass, do.TrainingDataset))\n",
    "g.add((do.KNNComponent, bigowl_workflows.specifiesInputClass, do.TestDataset))\n",
    "g.add((do.KNNComponent, bigowl_workflows.specifiesOutputClass, do.PredictedDataset))\n",
    "g.add((do.KNNComponent, bigowl_workflows.specifiesOutputClass, do.KNNModel))\n",
    "g.add((do.KNNComponent, bigowl_workflows.specifiesOutputClass, do.ConfusionMatrix))\n",
    "\n",
    "g.add((do.KNNTrainComponent, RDF.type, bigowl_workflows.MachineLearning))\n",
    "g.add((do.KNNTrainComponent, do.subComponentOf, do.KNNComponent))\n",
    "g.add((do.KNNTrainComponent, bigowl_workflows.numberOfInputs, Literal(1)))\n",
    "g.add((do.KNNTrainComponent, bigowl_workflows.numberOfOutputs, Literal(1)))\n",
    "g.add((do.KNNTrainComponent, bigowl_workflows.specifiesInputClass, do.TrainingDataset))\n",
    "g.add((do.KNNTrainComponent, bigowl_workflows.specifiesOutputClass, do.KNNModel))\n",
    "\n",
    "g.add((do.KNNPredictComponent, RDF.type, bigowl_workflows.MachineLearning))"
   ],
   "metadata": {
    "collapsed": false
   }
  },
  {
   "cell_type": "code",
   "execution_count": 118,
   "outputs": [
    {
     "data": {
      "text/plain": "<Graph identifier=Nabfc29fb97cd4c479cfb633900d500da (<class 'rdflib.graph.Graph'>)>"
     },
     "execution_count": 118,
     "metadata": {},
     "output_type": "execute_result"
    }
   ],
   "source": [
    "# KMeans Component\n",
    "g.add((do.KMeansComponent, RDF.type, bigowl_workflows.DataAnalysing))\n",
    "g.add((do.KMeansComponent, bigowl_workflows.hasAlgorithm, do.KMeans))\n",
    "g.add((do.KMeansComponent, bigowl_workflows.numberOfInputs, Literal(1)))\n",
    "g.add((do.KMeansComponent, bigowl_workflows.numberOfOutputs, Literal(2)))\n",
    "g.add((do.KMeansComponent, bigowl_workflows.specifiesInputClass, do.TabularDataset))\n",
    "g.add((do.KMeansComponent, bigowl_workflows.specifiesOutputClass, do.ClusteredDataset))\n",
    "g.add((do.KMeansComponent, bigowl_workflows.specifiesOutputClass, do.Centroids))\n",
    "\n",
    "g.add((do.NumberOfClusters, RDF.type, dmop.Parameter))\n",
    "g.add((do.NumberOfClusters, bigowl_workflows.hasName, Literal('Number of Clusters')))\n",
    "g.add((do.NumberOfClusters, bigowl_workflows.hasDataType, bigowl_data.Integer))\n",
    "g.add((do.NumberOfClusters, bigowl_workflows.hasDefaultValue, Literal(None)))\n",
    "\n",
    "g.add((do.KMeansComponent, bigowl_workflows.hasParameter, do.NumberOfClusters))"
   ],
   "metadata": {
    "collapsed": false,
    "ExecuteTime": {
     "start_time": "2023-04-11T02:35:19.539963Z",
     "end_time": "2023-04-11T02:35:19.554410Z"
    }
   }
  },
  {
   "cell_type": "code",
   "execution_count": 119,
   "outputs": [
    {
     "data": {
      "text/plain": "<Graph identifier=Nabfc29fb97cd4c479cfb633900d500da (<class 'rdflib.graph.Graph'>)>"
     },
     "execution_count": 119,
     "metadata": {},
     "output_type": "execute_result"
    }
   ],
   "source": [
    "# DBSCAN Component\n",
    "g.add((do.DBSCANComponent, RDF.type, bigowl_workflows.DataAnalysing))\n",
    "g.add((do.DBSCANComponent, bigowl_workflows.hasAlgorithm, do.DBSCAN))\n",
    "g.add((do.DBSCANComponent, bigowl_workflows.numberOfInputs, Literal(1)))\n",
    "g.add((do.DBSCANComponent, bigowl_workflows.numberOfOutputs, Literal(1)))\n",
    "g.add((do.DBSCANComponent, bigowl_workflows.specifiesInputClass, do.TabularDataset))\n",
    "g.add((do.DBSCANComponent, bigowl_workflows.specifiesOutputClass, do.ClusteredDataset))\n",
    "\n",
    "g.add((do.Epsilon, RDF.type, dmop.Parameter))\n",
    "g.add((do.Epsilon, bigowl_workflows.hasName, Literal('Epsilon')))\n",
    "g.add((do.Epsilon, bigowl_workflows.hasDataType, bigowl_data.Float))\n",
    "g.add((do.Epsilon, bigowl_workflows.hasDefaultValue, Literal(0.5)))\n",
    "g.add((do.minPoints, RDF.type, dmop.Parameter))\n",
    "g.add((do.minPoints, bigowl_workflows.hasName, Literal('Minimum Points')))\n",
    "g.add((do.minPoints, bigowl_workflows.hasDataType, bigowl_data.Integer))\n",
    "g.add((do.minPoints, bigowl_workflows.hasDefaultValue, Literal(5)))\n",
    "\n",
    "g.add((do.DBSCANComponent, bigowl_workflows.hasParameter, do.Epsilon))\n",
    "g.add((do.DBSCANComponent, bigowl_workflows.hasParameter, do.minPoints))"
   ],
   "metadata": {
    "collapsed": false,
    "ExecuteTime": {
     "start_time": "2023-04-11T02:35:20.336561Z",
     "end_time": "2023-04-11T02:35:20.352961Z"
    }
   }
  },
  {
   "cell_type": "code",
   "execution_count": 120,
   "outputs": [
    {
     "data": {
      "text/plain": "<Graph identifier=Nabfc29fb97cd4c479cfb633900d500da (<class 'rdflib.graph.Graph'>)>"
     },
     "execution_count": 120,
     "metadata": {},
     "output_type": "execute_result"
    }
   ],
   "source": [
    "# Mixture of Gaussians Component\n",
    "g.add((do.MixtureGaussianComponent, RDF.type, bigowl_workflows.DataAnalysing))\n",
    "g.add((do.MixtureGaussianComponent, bigowl_workflows.hasAlgorithm, do.MixtureGaussian))\n",
    "g.add((do.MixtureGaussianComponent, bigowl_workflows.numberOfInputs, Literal(1)))\n",
    "g.add((do.MixtureGaussianComponent, bigowl_workflows.numberOfOutputs, Literal(2)))\n",
    "g.add((do.MixtureGaussianComponent, bigowl_workflows.specifiesInputClass, do.TabularDataset))\n",
    "g.add((do.MixtureGaussianComponent, bigowl_workflows.specifiesOutputClass, do.ClusteredDataset))\n",
    "g.add((do.MixtureGaussianComponent, bigowl_workflows.specifiesOutputClass, do.Gaussians))\n",
    "\n",
    "g.add((do.NumberOfClusters, RDF.type, dmop.Parameter))\n",
    "g.add((do.NumberOfClusters, bigowl_workflows.hasName, Literal('Number of Clusters')))\n",
    "g.add((do.NumberOfClusters, bigowl_workflows.hasDataType, bigowl_data.Integer))\n",
    "g.add((do.NumberOfClusters, bigowl_workflows.hasDefaultValue, Literal(None)))\n",
    "\n",
    "g.add((do.MixtureGaussianComponent, bigowl_workflows.hasParameter, do.NumberOfClusters))"
   ],
   "metadata": {
    "collapsed": false,
    "ExecuteTime": {
     "start_time": "2023-04-11T02:35:20.936065Z",
     "end_time": "2023-04-11T02:35:20.943064Z"
    }
   }
  },
  {
   "cell_type": "code",
   "execution_count": 121,
   "outputs": [
    {
     "data": {
      "text/plain": "<Graph identifier=Nabfc29fb97cd4c479cfb633900d500da (<class 'rdflib.graph.Graph'>)>"
     },
     "execution_count": 121,
     "metadata": {},
     "output_type": "execute_result"
    }
   ],
   "source": [
    "# User Intent\n",
    "g.add((do.overData, RDF.type, OWL.ObjectProperty))\n",
    "g.add((do.overData, RDFS.domain, do.UserIntent))\n",
    "g.add((do.overData, RDFS.range, do.Data))"
   ],
   "metadata": {
    "collapsed": false,
    "ExecuteTime": {
     "start_time": "2023-04-11T02:35:22.784526Z",
     "end_time": "2023-04-11T02:35:22.792524Z"
    }
   }
  },
  {
   "cell_type": "code",
   "execution_count": 92,
   "outputs": [],
   "source": [
    "DeductiveClosure(OWLRL_Semantics).expand(g)"
   ],
   "metadata": {
    "collapsed": false,
    "ExecuteTime": {
     "start_time": "2023-04-11T01:15:47.691429Z",
     "end_time": "2023-04-11T01:15:48.828059Z"
    }
   }
  },
  {
   "cell_type": "code",
   "execution_count": 78,
   "outputs": [
    {
     "name": "stdout",
     "output_type": "stream",
     "text": [
      "https://diviloper.dev/ontology#ClusteringAlgorithm https://w3id.org/BIGOWLAlgorithms/solves https://diviloper.dev/ontology#Clustering\n"
     ]
    }
   ],
   "source": [
    "for s, p, o in g.triples((None, bigowl_algorithms.solves, None)):\n",
    "    print(s, p, o)"
   ],
   "metadata": {
    "collapsed": false,
    "ExecuteTime": {
     "start_time": "2023-04-10T23:33:26.733330Z",
     "end_time": "2023-04-10T23:33:26.748368Z"
    }
   }
  },
  {
   "cell_type": "code",
   "execution_count": 122,
   "outputs": [
    {
     "data": {
      "text/plain": "<Graph identifier=Nabfc29fb97cd4c479cfb633900d500da (<class 'rdflib.graph.Graph'>)>"
     },
     "execution_count": 122,
     "metadata": {},
     "output_type": "execute_result"
    }
   ],
   "source": [
    "g.serialize(r'../ontologies/ontology_full.ttl')"
   ],
   "metadata": {
    "collapsed": false,
    "ExecuteTime": {
     "start_time": "2023-04-11T02:35:25.931284Z",
     "end_time": "2023-04-11T02:35:25.957306Z"
    }
   }
  }
 ],
 "metadata": {
  "kernelspec": {
   "display_name": "Python 3",
   "language": "python",
   "name": "python3"
  },
  "language_info": {
   "codemirror_mode": {
    "name": "ipython",
    "version": 2
   },
   "file_extension": ".py",
   "mimetype": "text/x-python",
   "name": "python",
   "nbconvert_exporter": "python",
   "pygments_lexer": "ipython2",
   "version": "2.7.6"
  }
 },
 "nbformat": 4,
 "nbformat_minor": 0
}
