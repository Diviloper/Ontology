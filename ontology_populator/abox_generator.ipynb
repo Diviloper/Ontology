{
 "cells": [
  {
   "cell_type": "code",
   "execution_count": 1,
   "metadata": {
    "collapsed": true,
    "ExecuteTime": {
     "end_time": "2023-06-20T09:52:04.999557800Z",
     "start_time": "2023-06-20T09:52:04.926557600Z"
    }
   },
   "outputs": [],
   "source": [
    "from common import *"
   ]
  },
  {
   "cell_type": "code",
   "execution_count": 2,
   "outputs": [],
   "source": [
    "abox = get_graph()"
   ],
   "metadata": {
    "collapsed": false,
    "ExecuteTime": {
     "end_time": "2023-06-20T09:52:05.014559500Z",
     "start_time": "2023-06-20T09:52:05.000557700Z"
    }
   }
  },
  {
   "cell_type": "markdown",
   "source": [
    "## Problems"
   ],
   "metadata": {
    "collapsed": false
   }
  },
  {
   "cell_type": "code",
   "execution_count": 3,
   "outputs": [],
   "source": [
    "problems = [\n",
    "    da.Description,\n",
    "    da.Explanation,\n",
    "    da.Prediction,\n",
    "    da.DataCleaning,\n",
    "    da.DataManagement,\n",
    "\n",
    "    da.Classification,\n",
    "    da.Clustering,\n",
    "    da.AnomalyDetection,\n",
    "\n",
    "    da.MissingValueManagement,\n",
    "    da.DuplicationRemoval,\n",
    "    da.Normalization,\n",
    "]\n",
    "subproblems = [\n",
    "    (da.Description, [da.Classification, da.Clustering, da.AnomalyDetection],),\n",
    "    (da.DataCleaning, [da.MissingValueManagement, da.DuplicationRemoval, da.Normalization],),\n",
    "]\n",
    "\n",
    "for p in problems:\n",
    "    abox.add((p, RDF.type, dtbox.Problem))\n",
    "\n",
    "for p, sps in subproblems:\n",
    "    for sp in sps:\n",
    "        abox.add((sp, dtbox.subProblemOf, p))"
   ],
   "metadata": {
    "collapsed": false,
    "ExecuteTime": {
     "end_time": "2023-06-20T09:52:05.033129600Z",
     "start_time": "2023-06-20T09:52:05.019559300Z"
    }
   }
  },
  {
   "cell_type": "markdown",
   "source": [
    "## Algorithms"
   ],
   "metadata": {
    "collapsed": false
   }
  },
  {
   "cell_type": "code",
   "execution_count": 4,
   "outputs": [],
   "source": [
    "algorithms = [\n",
    "    # Clustering\n",
    "    (da.KMeans, da.Clustering),\n",
    "    (da.DBSCAN, da.Clustering),\n",
    "    (da.HierarchicalClustering, da.Clustering),\n",
    "\n",
    "    # Classification\n",
    "    (da.DecisionTree, da.Classification),\n",
    "    (da.RandomForest, da.Classification),\n",
    "    (da.NaiveBayes, da.Classification),\n",
    "    (da.SVM, da.Classification),\n",
    "    (da.KNN, da.Classification),\n",
    "\n",
    "    # Anomaly Detection\n",
    "    (da.OneClassSVM, da.AnomalyDetection),\n",
    "    (da.IsolationForest, da.AnomalyDetection),\n",
    "    (da.LocalOutlierFactor, da.AnomalyDetection),\n",
    "\n",
    "    # Missing Value Management\n",
    "    (da.MeanImputation, da.MissingValueManagement),\n",
    "    (da.MedianImputation, da.MissingValueManagement),\n",
    "    (da.ModeImputation, da.MissingValueManagement),\n",
    "    (da.KNNImputation, da.MissingValueManagement),\n",
    "    (da.MissingValueRemoval, da.MissingValueManagement),\n",
    "\n",
    "    # Duplication Removal\n",
    "    (da.DuplicateRemoval, da.DuplicationRemoval),\n",
    "\n",
    "    # Normalization\n",
    "    (da.MinMaxScaling, da.Normalization),\n",
    "    (da.ZScoreScaling, da.Normalization),\n",
    "    (da.RobustNormalization, da.Normalization),\n",
    "\n",
    "    # Data Management\n",
    "    (da.TrainTestSplit, da.DataManagement),\n",
    "    (da.LabelExtraction, da.DataManagement),\n",
    "]\n",
    "\n",
    "for algorithm, problem in algorithms:\n",
    "    abox.add((algorithm, RDF.type, dtbox.Algorithm))\n",
    "    abox.add((algorithm, dtbox.solves, problem))"
   ],
   "metadata": {
    "collapsed": false,
    "ExecuteTime": {
     "end_time": "2023-06-20T09:52:05.060129500Z",
     "start_time": "2023-06-20T09:52:05.036129900Z"
    }
   }
  },
  {
   "cell_type": "markdown",
   "source": [
    "## Implementation"
   ],
   "metadata": {
    "collapsed": false
   }
  },
  {
   "cell_type": "code",
   "execution_count": 5,
   "outputs": [
    {
     "name": "stdout",
     "output_type": "stream",
     "text": [
      "Adding implementation Train-Test Split\n",
      "Adding implementation Label Extraction\n",
      "Adding implementation Min-Max Scaling\n",
      "Adding implementation Min-Max Scaling Applier\n",
      "Adding implementation Z-Score Scaling\n",
      "Adding implementation Z-Score Scaling Applier\n",
      "Adding implementation Decision Tree Learner\n",
      "Adding implementation Decision Tree Predictor\n",
      "Adding implementation SVM Learner\n",
      "Adding implementation SVM Predictor\n"
     ]
    }
   ],
   "source": [
    "from implementations.knime import implementations, components\n",
    "\n",
    "for implementation in implementations:\n",
    "    print(f'Adding implementation {implementation.name}')\n",
    "    implementation.add_to_graph(abox)\n",
    "\n",
    "for implementation in implementations:\n",
    "    implementation.add_counterpart_relationship(abox)\n",
    "\n",
    "for component in components:\n",
    "    print(f'Adding component {component.name}')\n",
    "    component.add_to_graph(abox)\n",
    "\n",
    "for component in components:\n",
    "    component.add_counterpart_relationship(abox)"
   ],
   "metadata": {
    "collapsed": false,
    "ExecuteTime": {
     "end_time": "2023-06-20T09:52:05.282129700Z",
     "start_time": "2023-06-20T09:52:05.060129500Z"
    }
   }
  },
  {
   "cell_type": "markdown",
   "source": [
    "## Models"
   ],
   "metadata": {
    "collapsed": false
   }
  },
  {
   "cell_type": "code",
   "execution_count": 6,
   "outputs": [],
   "source": [
    "models = [\n",
    "    dd.SVMModel,\n",
    "    dd.DecisionTreeModel,\n",
    "    dd.ZScoreScalerModel,\n",
    "    dd.MinMaxScalerModel,\n",
    "]\n",
    "\n",
    "abox.add((dd.Model, RDFS.subClassOf, dtbox.Data))\n",
    "for model in models:\n",
    "    abox.add((model, RDFS.subClassOf, dd.Model))"
   ],
   "metadata": {
    "collapsed": false,
    "ExecuteTime": {
     "end_time": "2023-06-20T09:52:05.327129800Z",
     "start_time": "2023-06-20T09:52:05.284129600Z"
    }
   }
  },
  {
   "cell_type": "markdown",
   "source": [
    "## Store"
   ],
   "metadata": {
    "collapsed": false
   }
  },
  {
   "cell_type": "code",
   "execution_count": 7,
   "outputs": [
    {
     "data": {
      "text/plain": "<Graph identifier=Ndf220da88e6147e1a56d76ba7f2220eb (<class 'rdflib.graph.Graph'>)>"
     },
     "execution_count": 7,
     "metadata": {},
     "output_type": "execute_result"
    }
   ],
   "source": [
    "abox.serialize('../ontologies/abox.ttl', format='turtle')"
   ],
   "metadata": {
    "collapsed": false,
    "ExecuteTime": {
     "end_time": "2023-06-20T09:52:05.345129900Z",
     "start_time": "2023-06-20T09:52:05.298129900Z"
    }
   }
  }
 ],
 "metadata": {
  "kernelspec": {
   "display_name": "Python 3",
   "language": "python",
   "name": "python3"
  },
  "language_info": {
   "codemirror_mode": {
    "name": "ipython",
    "version": 2
   },
   "file_extension": ".py",
   "mimetype": "text/x-python",
   "name": "python",
   "nbconvert_exporter": "python",
   "pygments_lexer": "ipython2",
   "version": "2.7.6"
  }
 },
 "nbformat": 4,
 "nbformat_minor": 0
}
