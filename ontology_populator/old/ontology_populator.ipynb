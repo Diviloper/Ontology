{
 "cells": [
  {
   "cell_type": "code",
   "execution_count": 9,
   "metadata": {
    "collapsed": true,
    "ExecuteTime": {
     "start_time": "2023-04-17T11:54:04.625084Z",
     "end_time": "2023-04-17T11:54:04.649153Z"
    }
   },
   "outputs": [],
   "source": [
    "import pandas as pd\n",
    "from owlrl import DeductiveClosure, OWLRL_Semantics\n",
    "from rdflib import *\n",
    "from rdflib.extras.infixowl import Restriction"
   ]
  },
  {
   "cell_type": "code",
   "execution_count": 10,
   "outputs": [
    {
     "name": "stdout",
     "output_type": "stream",
     "text": [
      "Number of triples before reasoning: 255\n"
     ]
    }
   ],
   "source": [
    "g = Graph()\n",
    "g.parse(r'../ontologies/ontology_full.ttl')\n",
    "\n",
    "bigowl_data = Namespace('https://w3id.org/BIGOWLData/')\n",
    "bigowl_algorithms = Namespace('https://w3id.org/BIGOWLAlgorithms/')\n",
    "bigowl_problems = Namespace('https://w3id.org/BIGOWLProblems/')\n",
    "bigowl_workflows = Namespace('https://w3id.org/BIGOWLWorkflows/')\n",
    "do = Namespace('https://diviloper.dev/ontology#')\n",
    "abox = Namespace('https://diviloper.dev/ABox#')\n",
    "dmop = Namespace('http://www.e-lico.eu/ontologies/dmo/DMOP/DMOP.owl#')\n",
    "print(f'Number of triples before reasoning: {len(g)}')"
   ],
   "metadata": {
    "collapsed": false,
    "ExecuteTime": {
     "start_time": "2023-04-17T11:54:04.978869Z",
     "end_time": "2023-04-17T11:54:04.994843Z"
    }
   }
  },
  {
   "cell_type": "code",
   "execution_count": 23,
   "outputs": [],
   "source": [
    "df = pd.DataFrame(g, columns=['Subject', 'Predicate', 'Object'])"
   ],
   "metadata": {
    "collapsed": false,
    "ExecuteTime": {
     "start_time": "2023-04-17T11:56:48.639661Z",
     "end_time": "2023-04-17T11:56:48.662776Z"
    }
   }
  },
  {
   "cell_type": "code",
   "execution_count": 24,
   "outputs": [],
   "source": [
    "df.sort_values(by='Subject').to_csv('triples.csv')"
   ],
   "metadata": {
    "collapsed": false,
    "ExecuteTime": {
     "start_time": "2023-04-20T08:59:47.371783Z",
     "end_time": "2023-04-20T08:59:47.398794Z"
    }
   }
  },
  {
   "cell_type": "markdown",
   "source": [
    "# Data"
   ],
   "metadata": {
    "collapsed": false
   }
  },
  {
   "cell_type": "code",
   "execution_count": 5,
   "outputs": [
    {
     "data": {
      "text/plain": "<Graph identifier=N65e0fb0fb87148a7a6d30d9b1a0135bc (<class 'rdflib.graph.Graph'>)>"
     },
     "execution_count": 5,
     "metadata": {},
     "output_type": "execute_result"
    }
   ],
   "source": [
    "# DataSet Format\n",
    "g.add((do.fileFormat, RDF.type, OWL.DatatypeProperty))\n",
    "g.add((do.fileFormat, RDFS.domain, bigowl_data.DataSet))\n",
    "g.add((do.fileFormat, RDFS.range, XSD.string))\n",
    "\n",
    "g.add((do.Import_CSV, do.fileFormat, Literal('csv')))"
   ],
   "metadata": {
    "collapsed": false,
    "ExecuteTime": {
     "start_time": "2023-04-17T11:53:55.832381Z",
     "end_time": "2023-04-17T11:53:55.854459Z"
    }
   }
  },
  {
   "cell_type": "code",
   "execution_count": 10,
   "outputs": [
    {
     "data": {
      "text/plain": "<Graph identifier=Ne77ca8d8516e42b78ba8f4f4f6f2971e (<class 'rdflib.graph.Graph'>)>"
     },
     "execution_count": 10,
     "metadata": {},
     "output_type": "execute_result"
    }
   ],
   "source": [
    "# Parameter Value\n",
    "g.add((do.ParameterValue, RDF.type, OWL.Class))\n",
    "g.add((do.forParameter, RDF.type, OWL.ObjectProperty))\n",
    "g.add((do.forParameter, RDFS.domain, do.ParameterValue))\n",
    "g.add((do.forParameter, RDFS.range, dmop.Parameter))\n",
    "g.add((do.hasValue, RDF.type, OWL.DatatypeProperty))\n",
    "g.add((do.hasValue, RDFS.domain, do.ParameterValue))\n",
    "g.add((do.hasParameterValue, RDF.type, OWL.ObjectProperty))\n",
    "g.add((do.hasParameterValue, RDFS.range, dmop.Parameter))"
   ],
   "metadata": {
    "collapsed": false,
    "ExecuteTime": {
     "start_time": "2023-04-17T10:40:26.853279Z",
     "end_time": "2023-04-17T10:40:26.863171Z"
    }
   }
  },
  {
   "cell_type": "code",
   "execution_count": 11,
   "outputs": [
    {
     "data": {
      "text/plain": "<Graph identifier=Ne77ca8d8516e42b78ba8f4f4f6f2971e (<class 'rdflib.graph.Graph'>)>"
     },
     "execution_count": 11,
     "metadata": {},
     "output_type": "execute_result"
    }
   ],
   "source": [
    "# Tabular Dataset with Unique Columns\n",
    "g.add((do.UniqueTabularDataset, RDFS.subClassOf, do.TabularDataset))\n",
    "Restriction(do.isUnique, value=Literal('true', datatype=XSD.boolean), graph=g, identifier=do.UniqueColumnRestriction)\n",
    "Restriction(bigowl_data.hasColumn, someValuesFrom=do.UniqueColumnRestriction, graph=g, identifier=do.UniqueTabularDatasetRestriction)\n",
    "g.add((do.UniqueTabularDataset, OWL.equivalentClass, do.UniqueTabularDatasetRestriction))"
   ],
   "metadata": {
    "collapsed": false,
    "ExecuteTime": {
     "start_time": "2023-04-17T10:40:27.871353Z",
     "end_time": "2023-04-17T10:40:27.906929Z"
    }
   }
  },
  {
   "cell_type": "code",
   "execution_count": 12,
   "outputs": [
    {
     "data": {
      "text/plain": "<Graph identifier=Ne77ca8d8516e42b78ba8f4f4f6f2971e (<class 'rdflib.graph.Graph'>)>"
     },
     "execution_count": 12,
     "metadata": {},
     "output_type": "execute_result"
    }
   ],
   "source": [
    "# Tabular Dataset with Categorical Columns\n",
    "g.add((do.CategoricalTabularDataset, RDFS.subClassOf, do.TabularDataset))\n",
    "Restriction(do.isCategorical, value=Literal('true', datatype=XSD.boolean), graph=g, identifier=do.CategoricalColumnRestriction)\n",
    "Restriction(bigowl_data.hasColumn, someValuesFrom=do.CategoricalColumnRestriction, graph=g, identifier=do.CategoricalTabularDatasetRestriction)\n",
    "g.add((do.CategoricalTabularDataset, OWL.equivalentClass, do.CategoricalTabularDatasetRestriction))"
   ],
   "metadata": {
    "collapsed": false,
    "ExecuteTime": {
     "start_time": "2023-04-17T10:40:28.343993Z",
     "end_time": "2023-04-17T10:40:28.364000Z"
    }
   }
  },
  {
   "cell_type": "code",
   "execution_count": 13,
   "outputs": [
    {
     "data": {
      "text/plain": "<Graph identifier=Ne77ca8d8516e42b78ba8f4f4f6f2971e (<class 'rdflib.graph.Graph'>)>"
     },
     "execution_count": 13,
     "metadata": {},
     "output_type": "execute_result"
    }
   ],
   "source": [
    "# Input/Output specification of TabularAggregator\n",
    "g.add((do.TabularAggregator, bigowl_workflows.specifiesInputClass, do.TabularDataset))\n",
    "g.add((do.TabularAggregator, bigowl_workflows.specifiesOutputClass, do.UniqueTabularDataset))"
   ],
   "metadata": {
    "collapsed": false,
    "ExecuteTime": {
     "start_time": "2023-04-17T10:40:28.842314Z",
     "end_time": "2023-04-17T10:40:28.847304Z"
    }
   }
  },
  {
   "cell_type": "code",
   "execution_count": 14,
   "outputs": [
    {
     "data": {
      "text/plain": "<Graph identifier=Ne77ca8d8516e42b78ba8f4f4f6f2971e (<class 'rdflib.graph.Graph'>)>"
     },
     "execution_count": 14,
     "metadata": {},
     "output_type": "execute_result"
    }
   ],
   "source": [
    "# Algorithms\n",
    "g.add((do.ClusteringAlgorithm, RDFS.subClassOf, bigowl_algorithms.DataAnalysingAlgorithm))\n",
    "g.add((do.KMeans, RDF.type, do.ClusteringAlgorithm))\n",
    "g.add((do.KMeans, bigowl_algorithms.solves, do.Clustering))\n",
    "g.add((do.DBSCAN, RDF.type, do.ClusteringAlgorithm))\n",
    "g.add((do.DBSCAN, bigowl_algorithms.solves, do.Clustering))\n",
    "g.add((do.MixtureGaussian, RDF.type, do.ClusteringAlgorithm))\n",
    "g.add((do.MixtureGaussian, bigowl_algorithms.solves, do.Clustering))\n",
    "\n",
    "g.add((do.Classification, do.subProblemOf, do.Describe))\n",
    "g.add((do.ClassificationAlgorithms, RDFS.subClassOf, bigowl_algorithms.DataAnalysingAlgorithm))\n",
    "g.add((do.KNN, RDF.type, do.ClassificationAlgorithms))\n",
    "g.add((do.KNN, bigowl_algorithms.solves, do.Classification))\n",
    "g.add((do.DecisionTree, RDF.type, do.ClassificationAlgorithms))\n",
    "g.add((do.DecisionTree, bigowl_algorithms.solves, do.Classification))\n",
    "g.add((do.RandomForest, RDF.type, do.ClassificationAlgorithms))\n",
    "g.add((do.RandomForest, bigowl_algorithms.solves, do.Classification))\n",
    "g.add((do.LogisticRegression, RDF.type, do.ClassificationAlgorithms))\n",
    "g.add((do.LogisticRegression, bigowl_algorithms.solves, do.Classification))"
   ],
   "metadata": {
    "collapsed": false,
    "ExecuteTime": {
     "start_time": "2023-04-17T10:40:29.538533Z",
     "end_time": "2023-04-17T10:40:29.556915Z"
    }
   }
  },
  {
   "cell_type": "code",
   "execution_count": 15,
   "outputs": [
    {
     "data": {
      "text/plain": "<Graph identifier=Ne77ca8d8516e42b78ba8f4f4f6f2971e (<class 'rdflib.graph.Graph'>)>"
     },
     "execution_count": 15,
     "metadata": {},
     "output_type": "execute_result"
    }
   ],
   "source": [
    "# SubComponent Property\n",
    "g.add((do.subComponentOf, RDF.type, OWL.ObjectProperty))\n",
    "g.add((do.subComponentOf, RDFS.domain, bigowl_workflows.Component))\n",
    "g.add((do.subComponentOf, RDFS.range, bigowl_workflows.Component))\n",
    "\n",
    "g.add((do.subComponentConnectedTo, RDF.type, OWL.ObjectProperty))\n",
    "g.add((do.subComponentConnectedTo, RDFS.domain, bigowl_workflows.Component))\n",
    "g.add((do.subComponentConnectedTo, RDFS.range, bigowl_workflows.Component))"
   ],
   "metadata": {
    "collapsed": false,
    "ExecuteTime": {
     "start_time": "2023-04-17T10:40:30.209808Z",
     "end_time": "2023-04-17T10:40:30.230815Z"
    }
   }
  },
  {
   "cell_type": "code",
   "execution_count": null,
   "outputs": [],
   "source": [
    "# KNN Component\n",
    "g.add((do.KNNComponent, RDF.type, bigowl_workflows.MachineLearning))\n",
    "g.add((do.KNNComponent, bigowl_workflows.numberOfInputs, Literal(2)))\n",
    "g.add((do.KNNComponent, bigowl_workflows.numberOfOutputs, Literal(3)))\n",
    "g.add((do.KNNComponent, bigowl_workflows.specifiesInputClass, do.TrainingDataset))\n",
    "g.add((do.KNNComponent, bigowl_workflows.specifiesInputClass, do.TestDataset))\n",
    "g.add((do.KNNComponent, bigowl_workflows.specifiesOutputClass, do.PredictedDataset))\n",
    "g.add((do.KNNComponent, bigowl_workflows.specifiesOutputClass, do.KNNModel))\n",
    "g.add((do.KNNComponent, bigowl_workflows.specifiesOutputClass, do.ConfusionMatrix))\n",
    "\n",
    "g.add((do.KNNTrainComponent, RDF.type, bigowl_workflows.MachineLearning))\n",
    "g.add((do.KNNTrainComponent, do.subComponentOf, do.KNNComponent))\n",
    "g.add((do.KNNTrainComponent, bigowl_workflows.numberOfInputs, Literal(1)))\n",
    "g.add((do.KNNTrainComponent, bigowl_workflows.numberOfOutputs, Literal(1)))\n",
    "g.add((do.KNNTrainComponent, bigowl_workflows.specifiesInputClass, do.TrainingDataset))\n",
    "g.add((do.KNNTrainComponent, bigowl_workflows.specifiesOutputClass, do.KNNModel))\n",
    "\n",
    "g.add((do.KNNPredictComponent, RDF.type, bigowl_workflows.MachineLearning))"
   ],
   "metadata": {
    "collapsed": false
   }
  },
  {
   "cell_type": "code",
   "execution_count": 16,
   "outputs": [
    {
     "data": {
      "text/plain": "<Graph identifier=Ne77ca8d8516e42b78ba8f4f4f6f2971e (<class 'rdflib.graph.Graph'>)>"
     },
     "execution_count": 16,
     "metadata": {},
     "output_type": "execute_result"
    }
   ],
   "source": [
    "# KMeans Component\n",
    "g.add((do.KMeansComponent, RDF.type, bigowl_workflows.DataAnalysing))\n",
    "g.add((do.KMeansComponent, bigowl_workflows.hasAlgorithm, do.KMeans))\n",
    "g.add((do.KMeansComponent, bigowl_workflows.numberOfInputs, Literal(1)))\n",
    "g.add((do.KMeansComponent, bigowl_workflows.numberOfOutputs, Literal(2)))\n",
    "g.add((do.KMeansComponent, bigowl_workflows.specifiesInputClass, do.TabularDataset))\n",
    "g.add((do.KMeansComponent, bigowl_workflows.specifiesOutputClass, do.ClusteredDataset))\n",
    "g.add((do.KMeansComponent, bigowl_workflows.specifiesOutputClass, do.Centroids))\n",
    "\n",
    "g.add((do.NumberOfClusters, RDF.type, dmop.Parameter))\n",
    "g.add((do.NumberOfClusters, bigowl_workflows.hasName, Literal('Number of Clusters')))\n",
    "g.add((do.NumberOfClusters, bigowl_workflows.hasDataType, bigowl_data.Integer))\n",
    "g.add((do.NumberOfClusters, bigowl_workflows.hasDefaultValue, Literal(None)))\n",
    "\n",
    "g.add((do.KMeansComponent, bigowl_workflows.hasParameter, do.NumberOfClusters))"
   ],
   "metadata": {
    "collapsed": false,
    "ExecuteTime": {
     "start_time": "2023-04-17T10:40:33.934799Z",
     "end_time": "2023-04-17T10:40:33.948888Z"
    }
   }
  },
  {
   "cell_type": "code",
   "execution_count": 17,
   "outputs": [
    {
     "data": {
      "text/plain": "<Graph identifier=Ne77ca8d8516e42b78ba8f4f4f6f2971e (<class 'rdflib.graph.Graph'>)>"
     },
     "execution_count": 17,
     "metadata": {},
     "output_type": "execute_result"
    }
   ],
   "source": [
    "# DBSCAN Component\n",
    "g.add((do.DBSCANComponent, RDF.type, bigowl_workflows.DataAnalysing))\n",
    "g.add((do.DBSCANComponent, bigowl_workflows.hasAlgorithm, do.DBSCAN))\n",
    "g.add((do.DBSCANComponent, bigowl_workflows.numberOfInputs, Literal(1)))\n",
    "g.add((do.DBSCANComponent, bigowl_workflows.numberOfOutputs, Literal(1)))\n",
    "g.add((do.DBSCANComponent, bigowl_workflows.specifiesInputClass, do.TabularDataset))\n",
    "g.add((do.DBSCANComponent, bigowl_workflows.specifiesOutputClass, do.ClusteredDataset))\n",
    "\n",
    "g.add((do.Epsilon, RDF.type, dmop.Parameter))\n",
    "g.add((do.Epsilon, bigowl_workflows.hasName, Literal('Epsilon')))\n",
    "g.add((do.Epsilon, bigowl_workflows.hasDataType, bigowl_data.Float))\n",
    "g.add((do.Epsilon, bigowl_workflows.hasDefaultValue, Literal(0.5)))\n",
    "g.add((do.minPoints, RDF.type, dmop.Parameter))\n",
    "g.add((do.minPoints, bigowl_workflows.hasName, Literal('Minimum Points')))\n",
    "g.add((do.minPoints, bigowl_workflows.hasDataType, bigowl_data.Integer))\n",
    "g.add((do.minPoints, bigowl_workflows.hasDefaultValue, Literal(5)))\n",
    "\n",
    "g.add((do.DBSCANComponent, bigowl_workflows.hasParameter, do.Epsilon))\n",
    "g.add((do.DBSCANComponent, bigowl_workflows.hasParameter, do.minPoints))"
   ],
   "metadata": {
    "collapsed": false,
    "ExecuteTime": {
     "start_time": "2023-04-17T10:40:34.525873Z",
     "end_time": "2023-04-17T10:40:34.540942Z"
    }
   }
  },
  {
   "cell_type": "code",
   "execution_count": 18,
   "outputs": [
    {
     "data": {
      "text/plain": "<Graph identifier=Ne77ca8d8516e42b78ba8f4f4f6f2971e (<class 'rdflib.graph.Graph'>)>"
     },
     "execution_count": 18,
     "metadata": {},
     "output_type": "execute_result"
    }
   ],
   "source": [
    "# Mixture of Gaussians Component\n",
    "g.add((do.MixtureGaussianComponent, RDF.type, bigowl_workflows.DataAnalysing))\n",
    "g.add((do.MixtureGaussianComponent, bigowl_workflows.hasAlgorithm, do.MixtureGaussian))\n",
    "g.add((do.MixtureGaussianComponent, bigowl_workflows.numberOfInputs, Literal(1)))\n",
    "g.add((do.MixtureGaussianComponent, bigowl_workflows.numberOfOutputs, Literal(2)))\n",
    "g.add((do.MixtureGaussianComponent, bigowl_workflows.specifiesInputClass, do.TabularDataset))\n",
    "g.add((do.MixtureGaussianComponent, bigowl_workflows.specifiesOutputClass, do.ClusteredDataset))\n",
    "g.add((do.MixtureGaussianComponent, bigowl_workflows.specifiesOutputClass, do.Gaussians))\n",
    "\n",
    "g.add((do.NumberOfClusters, RDF.type, dmop.Parameter))\n",
    "g.add((do.NumberOfClusters, bigowl_workflows.hasName, Literal('Number of Clusters')))\n",
    "g.add((do.NumberOfClusters, bigowl_workflows.hasDataType, bigowl_data.Integer))\n",
    "g.add((do.NumberOfClusters, bigowl_workflows.hasDefaultValue, Literal(None)))\n",
    "\n",
    "g.add((do.MixtureGaussianComponent, bigowl_workflows.hasParameter, do.NumberOfClusters))"
   ],
   "metadata": {
    "collapsed": false,
    "ExecuteTime": {
     "start_time": "2023-04-17T10:40:35.302791Z",
     "end_time": "2023-04-17T10:40:35.344003Z"
    }
   }
  },
  {
   "cell_type": "markdown",
   "source": [
    "## User Intent TBox"
   ],
   "metadata": {
    "collapsed": false
   }
  },
  {
   "cell_type": "code",
   "execution_count": 19,
   "outputs": [
    {
     "data": {
      "text/plain": "<Graph identifier=Ne77ca8d8516e42b78ba8f4f4f6f2971e (<class 'rdflib.graph.Graph'>)>"
     },
     "execution_count": 19,
     "metadata": {},
     "output_type": "execute_result"
    }
   ],
   "source": [
    "# User Intent\n",
    "g.add((do.overData, RDF.type, OWL.ObjectProperty))\n",
    "g.add((do.overData, RDFS.domain, do.UserIntent))\n",
    "g.add((do.overData, RDFS.range, do.Data))"
   ],
   "metadata": {
    "collapsed": false,
    "ExecuteTime": {
     "start_time": "2023-04-17T10:40:37.279771Z",
     "end_time": "2023-04-17T10:40:37.328826Z"
    }
   }
  },
  {
   "cell_type": "markdown",
   "source": [
    "## Implementation ABox"
   ],
   "metadata": {
    "collapsed": false
   }
  },
  {
   "cell_type": "code",
   "execution_count": 24,
   "outputs": [
    {
     "data": {
      "text/plain": "<Graph identifier=Ndd45d96fd7a8433a8c5c0a83447052d1 (<class 'rdflib.graph.Graph'>)>"
     },
     "execution_count": 24,
     "metadata": {},
     "output_type": "execute_result"
    }
   ],
   "source": [
    "# CSV Loader\n",
    "g.add((do.PandasReadCSV, RDF.type, bigowl_workflows.Implementation))\n",
    "g.add((do.PandasReadCSV, RDFS.label, Literal('Pandas CSV Reader')))\n",
    "g.add((do.PandasReadCSV, bigowl_workflows.implementationLanguage, Literal('python')))\n",
    "g.add((do.PandasReadCSV, bigowl_workflows.module, Literal('pandas')))\n",
    "g.add((do.PandasReadCSV, bigowl_workflows.function, Literal('read_csv')))\n",
    "g.add((do.Import_CSV, bigowl_workflows.hasImplementation, do.PandasReadCSV))"
   ],
   "metadata": {
    "collapsed": false,
    "ExecuteTime": {
     "start_time": "2023-04-17T10:52:54.295084Z",
     "end_time": "2023-04-17T10:52:54.322841Z"
    }
   }
  },
  {
   "cell_type": "code",
   "execution_count": 25,
   "outputs": [
    {
     "data": {
      "text/plain": "<Graph identifier=Ndd45d96fd7a8433a8c5c0a83447052d1 (<class 'rdflib.graph.Graph'>)>"
     },
     "execution_count": 25,
     "metadata": {},
     "output_type": "execute_result"
    }
   ],
   "source": [
    "# KMeans\n",
    "g.add((do.SklearnKMeans, RDF.type, bigowl_workflows.Implementation))\n",
    "g.add((do.SklearnKMeans, RDFS.label, Literal('Sklearn KMeans')))\n",
    "g.add((do.SklearnKMeans, bigowl_workflows.implementationLanguage, Literal('python')))\n",
    "g.add((do.SklearnKMeans, bigowl_workflows.module, Literal('diviloper.cluster')))\n",
    "g.add((do.SklearnKMeans, bigowl_workflows.function, Literal('sklearn_kmeans')))\n",
    "g.add((do.KMeansComponent, bigowl_workflows.hasImplementation, do.SklearnKMeans))"
   ],
   "metadata": {
    "collapsed": false,
    "ExecuteTime": {
     "start_time": "2023-04-17T10:52:54.679682Z",
     "end_time": "2023-04-17T10:52:54.704669Z"
    }
   }
  },
  {
   "cell_type": "code",
   "execution_count": 5,
   "outputs": [],
   "source": [
    "DeductiveClosure(OWLRL_Semantics).expand(g)"
   ],
   "metadata": {
    "collapsed": false,
    "ExecuteTime": {
     "start_time": "2023-04-17T09:38:08.384634Z",
     "end_time": "2023-04-17T09:38:08.566227Z"
    }
   }
  },
  {
   "cell_type": "code",
   "execution_count": 26,
   "outputs": [
    {
     "data": {
      "text/plain": "<Graph identifier=Ndd45d96fd7a8433a8c5c0a83447052d1 (<class 'rdflib.graph.Graph'>)>"
     },
     "execution_count": 26,
     "metadata": {},
     "output_type": "execute_result"
    }
   ],
   "source": [
    "g.serialize(r'../ontologies/ontology_full.ttl')"
   ],
   "metadata": {
    "collapsed": false,
    "ExecuteTime": {
     "start_time": "2023-04-17T10:52:57.111555Z",
     "end_time": "2023-04-17T10:52:57.144621Z"
    }
   }
  },
  {
   "cell_type": "code",
   "execution_count": 78,
   "outputs": [
    {
     "name": "stdout",
     "output_type": "stream",
     "text": [
      "https://diviloper.dev/ontology#ClusteringAlgorithm https://w3id.org/BIGOWLAlgorithms/solves https://diviloper.dev/ontology#Clustering\n"
     ]
    }
   ],
   "source": [
    "for s, p, o in g.triples((None, bigowl_algorithms.solves, None)):\n",
    "    print(s, p, o)"
   ],
   "metadata": {
    "collapsed": false
   }
  }
 ],
 "metadata": {
  "kernelspec": {
   "display_name": "Python 3",
   "language": "python",
   "name": "python3"
  },
  "language_info": {
   "codemirror_mode": {
    "name": "ipython",
    "version": 2
   },
   "file_extension": ".py",
   "mimetype": "text/x-python",
   "name": "python",
   "nbconvert_exporter": "python",
   "pygments_lexer": "ipython2",
   "version": "2.7.6"
  }
 },
 "nbformat": 4,
 "nbformat_minor": 0
}
