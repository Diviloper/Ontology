{
 "cells": [
  {
   "cell_type": "code",
   "execution_count": 23,
   "metadata": {
    "collapsed": true,
    "ExecuteTime": {
     "end_time": "2023-06-19T07:41:36.069657200Z",
     "start_time": "2023-06-19T07:41:36.035657500Z"
    }
   },
   "outputs": [],
   "source": [
    "from rdflib.collection import Collection\n",
    "\n",
    "from common import *"
   ]
  },
  {
   "cell_type": "markdown",
   "source": [
    "## Helper Functions"
   ],
   "metadata": {
    "collapsed": false
   }
  },
  {
   "cell_type": "code",
   "execution_count": 24,
   "outputs": [],
   "source": [
    "def add_class(graph, nodes):\n",
    "    l = nodes if isinstance(nodes, list) else [nodes]\n",
    "    for node in l:\n",
    "        graph.add((node, RDF.type, OWL.Class))"
   ],
   "metadata": {
    "collapsed": false,
    "ExecuteTime": {
     "end_time": "2023-06-19T07:41:36.117657100Z",
     "start_time": "2023-06-19T07:41:36.042657700Z"
    }
   }
  },
  {
   "cell_type": "code",
   "execution_count": 25,
   "outputs": [],
   "source": [
    "def add_union(graph, nodes):\n",
    "    sequence = Collection(graph, BNode(), nodes)\n",
    "    union = BNode()\n",
    "    graph.add((union, OWL.unionOf, sequence.uri))\n",
    "    return union"
   ],
   "metadata": {
    "collapsed": false,
    "ExecuteTime": {
     "end_time": "2023-06-19T07:41:36.126657400Z",
     "start_time": "2023-06-19T07:41:36.057657500Z"
    }
   }
  },
  {
   "cell_type": "code",
   "execution_count": 26,
   "outputs": [],
   "source": [
    "def add_object_property(graph, property, domain, range):\n",
    "    graph.add((property, RDF.type, OWL.ObjectProperty))\n",
    "    if domain:\n",
    "        graph.add((property, RDFS.domain, add_union(graph, domain) if isinstance(domain, list) else domain))\n",
    "    if range:\n",
    "        graph.add((property, RDFS.range, add_union(graph, range) if isinstance(range, list) else range))\n",
    "\n",
    "\n",
    "def add_datatype_property(graph, property, domain, range):\n",
    "    if isinstance(range, list):\n",
    "        for r in range:\n",
    "            assert r in XSD\n",
    "    else:\n",
    "        assert range in XSD\n",
    "    graph.add((property, RDF.type, OWL.DatatypeProperty))\n",
    "    if domain:\n",
    "        graph.add((property, RDFS.domain, add_union(graph, domain) if isinstance(domain, list) else domain))\n",
    "    if range:\n",
    "        graph.add((property, RDFS.range, add_union(graph, range) if isinstance(range, list) else range))\n",
    "\n",
    "\n",
    "def add_property(graph, property, domain, range):\n",
    "    graph.add((property, RDF.type, RDF.Property))\n",
    "    if domain:\n",
    "        graph.add((property, RDFS.domain, add_union(graph, domain) if isinstance(domain, list) else domain))\n",
    "    if range:\n",
    "        graph.add((property, RDFS.range, add_union(graph, range) if isinstance(range, list) else range))"
   ],
   "metadata": {
    "collapsed": false,
    "ExecuteTime": {
     "end_time": "2023-06-19T07:41:36.127657300Z",
     "start_time": "2023-06-19T07:41:36.078657400Z"
    }
   }
  },
  {
   "cell_type": "markdown",
   "source": [
    "# Ontology Building"
   ],
   "metadata": {
    "collapsed": false
   }
  },
  {
   "cell_type": "code",
   "execution_count": 27,
   "outputs": [],
   "source": [
    "ontology = get_graph()"
   ],
   "metadata": {
    "collapsed": false,
    "ExecuteTime": {
     "end_time": "2023-06-19T07:41:36.127657300Z",
     "start_time": "2023-06-19T07:41:36.088657500Z"
    }
   }
  },
  {
   "cell_type": "markdown",
   "source": [
    "## Classes"
   ],
   "metadata": {
    "collapsed": false
   }
  },
  {
   "cell_type": "code",
   "execution_count": 28,
   "outputs": [],
   "source": [
    "classes = [\n",
    "    dtbox.Data,\n",
    "    dtbox.Intent,\n",
    "    dtbox.Problem,\n",
    "    dtbox.Algorithm,\n",
    "    dtbox.Workflow,\n",
    "    dtbox.DataTag,\n",
    "    dtbox.Step,\n",
    "    dtbox.Implementation,\n",
    "    dtbox.LearnerImplementation,\n",
    "    dtbox.ApplierImplementation,\n",
    "    dtbox.Parameter,\n",
    "    dtbox.ParameterValue,\n",
    "    dtbox.Transformation,\n",
    "    dtbox.CopyTransformation,\n",
    "    dtbox.IOSpec,\n",
    "    dtbox.IO,\n",
    "]\n",
    "add_class(ontology, classes)"
   ],
   "metadata": {
    "collapsed": false,
    "ExecuteTime": {
     "end_time": "2023-06-19T07:41:36.127657300Z",
     "start_time": "2023-06-19T07:41:36.117657100Z"
    }
   }
  },
  {
   "cell_type": "code",
   "execution_count": 29,
   "outputs": [
    {
     "data": {
      "text/plain": "<Graph identifier=N3e565d464c0f4b6db0737e3324d87d66 (<class 'rdflib.graph.Graph'>)>"
     },
     "execution_count": 29,
     "metadata": {},
     "output_type": "execute_result"
    }
   ],
   "source": [
    "ontology.add((dtbox.CopyTransformation, RDFS.subClassOf, dtbox.Transformation))\n",
    "ontology.add((dtbox.LearnerImplementation, RDFS.subClassOf, dtbox.Implementation))\n",
    "ontology.add((dtbox.ApplierImplementation, RDFS.subClassOf, dtbox.Implementation))\n",
    "ontology.add((dtbox.LearnerImplementation, OWL.disjointWith, dtbox.ApplierImplementation))"
   ],
   "metadata": {
    "collapsed": false,
    "ExecuteTime": {
     "end_time": "2023-06-19T07:41:36.151657300Z",
     "start_time": "2023-06-19T07:41:36.121657300Z"
    }
   }
  },
  {
   "cell_type": "markdown",
   "source": [
    "## Object Properties"
   ],
   "metadata": {
    "collapsed": false
   }
  },
  {
   "cell_type": "code",
   "execution_count": 30,
   "outputs": [],
   "source": [
    "properties = [\n",
    "    # Intent\n",
    "    (dtbox.overData, dtbox.Intent, dtbox.Data),\n",
    "    (dtbox.tackles, dtbox.Intent, [dtbox.Problem, dtbox.Algorithm]),\n",
    "    (dtbox.usingParameter, dtbox.Intent, [dtbox.Parameter, dtbox.ParameterValue]),\n",
    "    (dtbox.createdFor, dtbox.Workflow, dtbox.Intent),\n",
    "    # Problem\n",
    "    (dtbox.subProblemOf, dtbox.Problem, dtbox.Problem),\n",
    "    (dtbox.solves, [dtbox.Algorithm, dtbox.Workflow], dtbox.Problem),\n",
    "    # Workflow\n",
    "    (dtbox.applies, dtbox.Workflow, dtbox.Algorithm),\n",
    "    (dtbox.hasStep, dtbox.Workflow, dtbox.Step),\n",
    "    # Workflow / Implementation\n",
    "    (dtbox.hasParameter, [dtbox.Workflow, dtbox.Implementation], dtbox.Parameter),\n",
    "    (dtbox.specifiesInput, [dtbox.Workflow, dtbox.Implementation], dtbox.IOSpec),\n",
    "    (dtbox.specifiesOutput, [dtbox.Workflow, dtbox.Implementation], dtbox.IOSpec),\n",
    "    # Implementation\n",
    "    (dtbox.implements, dtbox.Implementation, dtbox.Algorithm),\n",
    "    (dtbox.hasLearner, dtbox.ApplierImplementation, dtbox.LearnerImplementation),\n",
    "    (dtbox.hasApplier, dtbox.LearnerImplementation, dtbox.ApplierImplementation),\n",
    "    (dtbox.hasTransformation, dtbox.Implementation, RDF.List),\n",
    "    # Step\n",
    "    (dtbox.followedBy, dtbox.Step, dtbox.Step),\n",
    "    (dtbox.runs, dtbox.Step, [dtbox.Workflow, dtbox.Implementation]),\n",
    "    (dtbox.hasParameterValue, dtbox.Step, dtbox.ParameterValue),\n",
    "    (dtbox.hasInput, dtbox.Step, dtbox.IO),\n",
    "    (dtbox.hasOutput, dtbox.Step, dtbox.IO),\n",
    "    # Parameter\n",
    "    (dtbox.forParameter, dtbox.ParameterValue, dtbox.Parameter),\n",
    "    (dtbox.hasDatatype, dtbox.Parameter, None),\n",
    "    (dtbox.hasDefaultValue, dtbox.Parameter, None),\n",
    "    # Data\n",
    "    (dtbox.conformsTo, dtbox.Data, dtbox.DataTag),\n",
    "    # IOSpec\n",
    "    (dtbox.hasTag, dtbox.IOSpec, dtbox.DataTag),\n",
    "    # IO\n",
    "    (dtbox.hasData, dtbox.IOSpec, dtbox.Data),\n",
    "]\n",
    "for s, p, o in properties:\n",
    "    add_object_property(ontology, s, p, o)"
   ],
   "metadata": {
    "collapsed": false,
    "ExecuteTime": {
     "end_time": "2023-06-19T07:41:36.181657100Z",
     "start_time": "2023-06-19T07:41:36.150659200Z"
    }
   }
  },
  {
   "cell_type": "code",
   "execution_count": 31,
   "outputs": [
    {
     "data": {
      "text/plain": "<Graph identifier=N3e565d464c0f4b6db0737e3324d87d66 (<class 'rdflib.graph.Graph'>)>"
     },
     "execution_count": 31,
     "metadata": {},
     "output_type": "execute_result"
    }
   ],
   "source": [
    "ontology.add((dtbox.subProblemOf, RDF.type, OWL.TransitiveProperty))"
   ],
   "metadata": {
    "collapsed": false,
    "ExecuteTime": {
     "end_time": "2023-06-19T07:41:36.191657300Z",
     "start_time": "2023-06-19T07:41:36.152657500Z"
    }
   }
  },
  {
   "cell_type": "markdown",
   "source": [
    "## Datatype Properties"
   ],
   "metadata": {
    "collapsed": false
   }
  },
  {
   "cell_type": "code",
   "execution_count": 32,
   "outputs": [],
   "source": [
    "dproperties = [\n",
    "    # Transformation\n",
    "    (dtbox.copy_input, dtbox.CopyTransformation, XSD.integer),\n",
    "    (dtbox.copy_output, dtbox.CopyTransformation, XSD.integer),\n",
    "    (dtbox.transformation_language, dtbox.Transformation, XSD.string),\n",
    "    (dtbox.transformation_query, dtbox.Transformation, XSD.string),\n",
    "    # IO\n",
    "    (dtbox.has_position, [dtbox.IO, dtbox.IOSpec, dtbox.Step, dtbox.Parameter], XSD.integer),\n",
    "]\n",
    "\n",
    "for s, p, o in dproperties:\n",
    "    add_datatype_property(ontology, s, p, o)"
   ],
   "metadata": {
    "collapsed": false,
    "ExecuteTime": {
     "end_time": "2023-06-19T07:41:36.191657300Z",
     "start_time": "2023-06-19T07:41:36.181657100Z"
    }
   }
  },
  {
   "cell_type": "markdown",
   "source": [
    "## Open Properties (no Range or Domain)"
   ],
   "metadata": {
    "collapsed": false
   }
  },
  {
   "cell_type": "code",
   "execution_count": 33,
   "outputs": [],
   "source": [
    "oproperties = [\n",
    "    (dtbox.has_value, dtbox.ParameterValue, None),\n",
    "]\n",
    "\n",
    "for s, p, o in oproperties:\n",
    "    add_property(ontology, s, p, o)"
   ],
   "metadata": {
    "collapsed": false,
    "ExecuteTime": {
     "end_time": "2023-06-19T07:41:36.215657300Z",
     "start_time": "2023-06-19T07:41:36.185657800Z"
    }
   }
  },
  {
   "cell_type": "markdown",
   "source": [
    "## Store"
   ],
   "metadata": {
    "collapsed": false
   }
  },
  {
   "cell_type": "code",
   "execution_count": 34,
   "outputs": [
    {
     "data": {
      "text/plain": "<Graph identifier=N3e565d464c0f4b6db0737e3324d87d66 (<class 'rdflib.graph.Graph'>)>"
     },
     "execution_count": 34,
     "metadata": {},
     "output_type": "execute_result"
    }
   ],
   "source": [
    "ontology.serialize('../ontologies/tbox.ttl', format='turtle')"
   ],
   "metadata": {
    "collapsed": false,
    "ExecuteTime": {
     "end_time": "2023-06-19T07:41:36.251657300Z",
     "start_time": "2023-06-19T07:41:36.214657400Z"
    }
   }
  }
 ],
 "metadata": {
  "kernelspec": {
   "display_name": "Python 3",
   "language": "python",
   "name": "python3"
  },
  "language_info": {
   "codemirror_mode": {
    "name": "ipython",
    "version": 2
   },
   "file_extension": ".py",
   "mimetype": "text/x-python",
   "name": "python",
   "nbconvert_exporter": "python",
   "pygments_lexer": "ipython2",
   "version": "2.7.6"
  }
 },
 "nbformat": 4,
 "nbformat_minor": 0
}
