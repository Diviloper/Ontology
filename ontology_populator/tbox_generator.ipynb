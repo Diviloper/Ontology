{
 "cells": [
  {
   "cell_type": "code",
   "execution_count": 15,
   "metadata": {
    "collapsed": true,
    "ExecuteTime": {
     "end_time": "2023-05-31T07:44:28.815400200Z",
     "start_time": "2023-05-31T07:44:28.797397Z"
    }
   },
   "outputs": [],
   "source": [
    "from typing import List, Tuple, Union\n",
    "\n",
    "from pyshacl import validate\n",
    "from rdflib import *\n",
    "from rdflib.collection import Collection"
   ]
  },
  {
   "cell_type": "code",
   "execution_count": 16,
   "outputs": [],
   "source": [
    "dmop = Namespace('http://www.e-lico.eu/ontologies/dmo/DMOP/DMOP.owl#')\n",
    "do = Namespace('https://diviloper.dev/ontology#')\n",
    "di = Namespace('https://diviloper.dev/ontology/implementations#')\n",
    "ds = Namespace('https://diviloper.dev/ontology/shapes#')\n",
    "dr = Namespace('https://diviloper.dev/ontology/rules#')\n",
    "da = Namespace('https://diviloper.dev/ABox#')\n",
    "\n",
    "\n",
    "def get_graph():\n",
    "    g = Graph()\n",
    "    g.bind('dmop', dmop)\n",
    "    g.bind('do', do)\n",
    "    g.bind('di', di)\n",
    "    g.bind('ds', ds)\n",
    "    g.bind('dr', dr)\n",
    "    g.bind('dd', da)\n",
    "    return g"
   ],
   "metadata": {
    "collapsed": false,
    "ExecuteTime": {
     "end_time": "2023-05-31T07:44:28.847398600Z",
     "start_time": "2023-05-31T07:44:28.804400100Z"
    }
   }
  },
  {
   "cell_type": "code",
   "execution_count": 17,
   "outputs": [],
   "source": [
    "def add_class(graph, nodes):\n",
    "    l = nodes if isinstance(nodes, list) else [nodes]\n",
    "    for node in l:\n",
    "        graph.add((node, RDF.type, OWL.Class))"
   ],
   "metadata": {
    "collapsed": false,
    "ExecuteTime": {
     "end_time": "2023-05-31T07:44:28.851400100Z",
     "start_time": "2023-05-31T07:44:28.819397400Z"
    }
   }
  },
  {
   "cell_type": "code",
   "execution_count": 18,
   "outputs": [],
   "source": [
    "def add_union(graph, nodes):\n",
    "    sequence = Collection(graph, BNode(), nodes)\n",
    "    union = BNode()\n",
    "    graph.add((union, OWL.unionOf, sequence.uri))\n",
    "    return union"
   ],
   "metadata": {
    "collapsed": false,
    "ExecuteTime": {
     "end_time": "2023-05-31T07:44:28.851400100Z",
     "start_time": "2023-05-31T07:44:28.834399600Z"
    }
   }
  },
  {
   "cell_type": "code",
   "execution_count": 19,
   "outputs": [],
   "source": [
    "def add_property(graph, property, domain, range):\n",
    "    graph.add((property, RDF.type, RDF.Property))\n",
    "    graph.add((property, RDFS.domain, add_union(graph, domain) if isinstance(domain, list) else domain))\n",
    "    graph.add((property, RDFS.range, add_union(graph, range) if isinstance(range, list) else range))"
   ],
   "metadata": {
    "collapsed": false,
    "ExecuteTime": {
     "end_time": "2023-05-31T07:44:28.866397500Z",
     "start_time": "2023-05-31T07:44:28.854400400Z"
    }
   }
  },
  {
   "cell_type": "code",
   "execution_count": 20,
   "outputs": [],
   "source": [
    "ontology = get_graph()"
   ],
   "metadata": {
    "collapsed": false,
    "ExecuteTime": {
     "end_time": "2023-05-31T07:44:28.888397700Z",
     "start_time": "2023-05-31T07:44:28.868398500Z"
    }
   }
  },
  {
   "cell_type": "markdown",
   "source": [
    "## Classes"
   ],
   "metadata": {
    "collapsed": false
   }
  },
  {
   "cell_type": "code",
   "execution_count": 21,
   "outputs": [],
   "source": [
    "classes = [\n",
    "    do.Data,\n",
    "    do.Intent,\n",
    "    do.Problem,\n",
    "    do.Algorithm,\n",
    "    do.Workflow,\n",
    "    do.DataTag,\n",
    "    do.Step,\n",
    "    do.Implementation,\n",
    "    do.Parameter,\n",
    "    do.ParameterValue,\n",
    "    do.Transformation\n",
    "]\n",
    "for c in classes:\n",
    "    add_class(ontology, c)"
   ],
   "metadata": {
    "collapsed": false,
    "ExecuteTime": {
     "end_time": "2023-05-31T07:44:28.899398600Z",
     "start_time": "2023-05-31T07:44:28.884398Z"
    }
   }
  },
  {
   "cell_type": "markdown",
   "source": [
    "## Object Properties"
   ],
   "metadata": {
    "collapsed": false
   }
  },
  {
   "cell_type": "code",
   "execution_count": 22,
   "outputs": [],
   "source": [
    "properties = [\n",
    "    (do.overData, do.Intent, do.Data),\n",
    "    (do.tackles, do.Intent, [do.Problem, do.Algorithm]),\n",
    "    (do.usingParameter, do.Intent, [do.Parameter, do.ParameterValue]),\n",
    "    (do.subProblemOf, do.Problem, do.Problem),\n",
    "    (do.solves, [do.Algorithm, do.Workflow], do.Problem),\n",
    "    (do.createdFor, do.Workflow, do.Intent),\n",
    "    (do.applies, do.Workflow, do.Algorithm),\n",
    "    (do.hasStep, do.Workflow, do.Step),\n",
    "    (do.hasParameter, [do.Workflow, do.Implementation], do.Parameter),\n",
    "    (do.specifiesInput, [do.Workflow, do.Implementation], do.DataTag),\n",
    "    (do.specifiesOutput, [do.Workflow, do.Implementation], do.DataTag),\n",
    "    (do.followedBy, do.Step, do.Step),\n",
    "    (do.runs, do.Step, [do.Workflow, do.Implementation]),\n",
    "    (do.hasParameterValue, do.Step, do.ParameterValue),\n",
    "    (do.forParameter, do.ParameterValue, do.Parameter),\n",
    "    (do.hasInput, do.Step, do.Data),\n",
    "    (do.hasOutput, do.Step, do.Data),\n",
    "    (do.conformsTo, do.Data, do.DataTag),\n",
    "    (do.implements, do.Implementation, do.Algorithm),\n",
    "    (do.hasTransformation, do.Implementation, RDF.List),\n",
    "]\n",
    "for s, p, o in properties:\n",
    "    add_property(ontology, s, p, o)"
   ],
   "metadata": {
    "collapsed": false,
    "ExecuteTime": {
     "end_time": "2023-05-31T07:44:28.923398400Z",
     "start_time": "2023-05-31T07:44:28.906397600Z"
    }
   }
  },
  {
   "cell_type": "code",
   "execution_count": 23,
   "outputs": [
    {
     "data": {
      "text/plain": "<Graph identifier=Ne1782876e291494193ec44ba15e5e061 (<class 'rdflib.graph.Graph'>)>"
     },
     "execution_count": 23,
     "metadata": {},
     "output_type": "execute_result"
    }
   ],
   "source": [
    "ontology.serialize('ontology.ttl', format='turtle')"
   ],
   "metadata": {
    "collapsed": false,
    "ExecuteTime": {
     "end_time": "2023-05-31T07:44:28.948396600Z",
     "start_time": "2023-05-31T07:44:28.915398Z"
    }
   }
  }
 ],
 "metadata": {
  "kernelspec": {
   "display_name": "Python 3",
   "language": "python",
   "name": "python3"
  },
  "language_info": {
   "codemirror_mode": {
    "name": "ipython",
    "version": 2
   },
   "file_extension": ".py",
   "mimetype": "text/x-python",
   "name": "python",
   "nbconvert_exporter": "python",
   "pygments_lexer": "ipython2",
   "version": "2.7.6"
  }
 },
 "nbformat": 4,
 "nbformat_minor": 0
}
