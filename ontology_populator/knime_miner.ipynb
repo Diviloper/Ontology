{
 "cells": [
  {
   "cell_type": "code",
   "execution_count": 1,
   "metadata": {
    "collapsed": true,
    "ExecuteTime": {
     "end_time": "2023-05-23T08:33:08.782193Z",
     "start_time": "2023-05-23T08:33:08.762638300Z"
    }
   },
   "outputs": [],
   "source": [
    "import json"
   ]
  },
  {
   "cell_type": "code",
   "execution_count": 3,
   "outputs": [],
   "source": [
    "with open('nodeDocumentation.json', encoding='utf8') as f:\n",
    "    data = json.load(f)"
   ],
   "metadata": {
    "collapsed": false,
    "ExecuteTime": {
     "end_time": "2023-05-23T08:33:24.598788800Z",
     "start_time": "2023-05-23T08:33:24.557790900Z"
    }
   }
  },
  {
   "cell_type": "code",
   "execution_count": 7,
   "outputs": [],
   "source": [
    "def get_nodes(data, path):\n",
    "    nodes = []\n",
    "    if 'nodes' in data:\n",
    "        nodes += [(path + node['name'], node) for node in data['nodes']]\n",
    "    if 'children' in data:\n",
    "        for child in data['children']:\n",
    "            nodes += get_nodes(child, path + '/' + data['name'])\n",
    "    return nodes"
   ],
   "metadata": {
    "collapsed": false,
    "ExecuteTime": {
     "end_time": "2023-05-23T08:37:45.350888800Z",
     "start_time": "2023-05-23T08:37:45.342902400Z"
    }
   }
  },
  {
   "cell_type": "code",
   "execution_count": 9,
   "outputs": [],
   "source": [
    "nodes = get_nodes(data, '')"
   ],
   "metadata": {
    "collapsed": false,
    "ExecuteTime": {
     "end_time": "2023-05-23T08:37:58.801671700Z",
     "start_time": "2023-05-23T08:37:58.787670800Z"
    }
   }
  },
  {
   "cell_type": "code",
   "execution_count": 19,
   "outputs": [],
   "source": [
    "node = next(node for name, node in nodes if 'DBS' in name)"
   ],
   "metadata": {
    "collapsed": false,
    "ExecuteTime": {
     "end_time": "2023-05-23T09:01:44.365447100Z",
     "start_time": "2023-05-23T09:01:44.356457300Z"
    }
   }
  },
  {
   "cell_type": "code",
   "execution_count": 17,
   "outputs": [
    {
     "name": "stdout",
     "output_type": "stream",
     "text": [
      "Epsilon Required\n",
      "Minimum points Required\n",
      "Load data in memory Required\n"
     ]
    }
   ],
   "source": [
    "for parameter in node['options']:\n",
    "    print(parameter['name'], 'Optional' if parameter['optional'] else 'Required')"
   ],
   "metadata": {
    "collapsed": false,
    "ExecuteTime": {
     "end_time": "2023-05-23T09:01:26.010717Z",
     "start_time": "2023-05-23T09:01:25.963636800Z"
    }
   }
  }
 ],
 "metadata": {
  "kernelspec": {
   "display_name": "Python 3",
   "language": "python",
   "name": "python3"
  },
  "language_info": {
   "codemirror_mode": {
    "name": "ipython",
    "version": 2
   },
   "file_extension": ".py",
   "mimetype": "text/x-python",
   "name": "python",
   "nbconvert_exporter": "python",
   "pygments_lexer": "ipython2",
   "version": "2.7.6"
  }
 },
 "nbformat": 4,
 "nbformat_minor": 0
}
