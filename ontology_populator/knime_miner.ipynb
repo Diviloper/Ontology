{
 "cells": [
  {
   "cell_type": "code",
   "execution_count": 1,
   "metadata": {
    "collapsed": true,
    "ExecuteTime": {
     "end_time": "2023-06-08T11:32:14.176881Z",
     "start_time": "2023-06-08T11:32:14.167883200Z"
    }
   },
   "outputs": [],
   "source": [
    "import json"
   ]
  },
  {
   "cell_type": "code",
   "execution_count": 2,
   "outputs": [],
   "source": [
    "with open('nodeDocumentation.json', encoding='utf8') as f:\n",
    "    data = json.load(f)"
   ],
   "metadata": {
    "collapsed": false,
    "ExecuteTime": {
     "end_time": "2023-06-08T11:32:14.222896Z",
     "start_time": "2023-06-08T11:32:14.177881200Z"
    }
   }
  },
  {
   "cell_type": "code",
   "execution_count": 3,
   "outputs": [],
   "source": [
    "def get_nodes(data, path):\n",
    "    nodes = []\n",
    "    if 'nodes' in data:\n",
    "        nodes += [(path + node['name'], node) for node in data['nodes']]\n",
    "    if 'children' in data:\n",
    "        for child in data['children']:\n",
    "            nodes += get_nodes(child, path + '/' + data['name'])\n",
    "    return nodes"
   ],
   "metadata": {
    "collapsed": false,
    "ExecuteTime": {
     "end_time": "2023-06-08T11:32:14.235896Z",
     "start_time": "2023-06-08T11:32:14.224895400Z"
    }
   }
  },
  {
   "cell_type": "code",
   "execution_count": 4,
   "outputs": [],
   "source": [
    "nodes = get_nodes(data, '')"
   ],
   "metadata": {
    "collapsed": false,
    "ExecuteTime": {
     "end_time": "2023-06-08T11:32:14.256897300Z",
     "start_time": "2023-06-08T11:32:14.238896100Z"
    }
   }
  },
  {
   "cell_type": "code",
   "execution_count": 5,
   "outputs": [],
   "source": [
    "node = next(node for name, node in nodes if 'Normalizer' in name)"
   ],
   "metadata": {
    "collapsed": false,
    "ExecuteTime": {
     "end_time": "2023-06-08T11:32:14.268895600Z",
     "start_time": "2023-06-08T11:32:14.252895800Z"
    }
   }
  },
  {
   "cell_type": "code",
   "execution_count": 6,
   "outputs": [
    {
     "name": "stdout",
     "output_type": "stream",
     "text": [
      "Min-max normalization Required\n",
      "Z-score normalization (Gaussian) Required\n",
      "Normalization by decimal scaling Required\n"
     ]
    }
   ],
   "source": [
    "for parameter in node['options']:\n",
    "    print(parameter['name'], 'Optional' if parameter['optional'] else 'Required')"
   ],
   "metadata": {
    "collapsed": false,
    "ExecuteTime": {
     "end_time": "2023-06-08T11:32:14.313975600Z",
     "start_time": "2023-06-08T11:32:14.269895800Z"
    }
   }
  }
 ],
 "metadata": {
  "kernelspec": {
   "display_name": "Python 3",
   "language": "python",
   "name": "python3"
  },
  "language_info": {
   "codemirror_mode": {
    "name": "ipython",
    "version": 2
   },
   "file_extension": ".py",
   "mimetype": "text/x-python",
   "name": "python",
   "nbconvert_exporter": "python",
   "pygments_lexer": "ipython2",
   "version": "2.7.6"
  }
 },
 "nbformat": 4,
 "nbformat_minor": 0
}
