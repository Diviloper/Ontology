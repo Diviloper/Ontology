{
 "cells": [
  {
   "cell_type": "code",
   "execution_count": 1,
   "metadata": {
    "collapsed": true,
    "ExecuteTime": {
     "start_time": "2023-04-17T11:34:33.465725Z",
     "end_time": "2023-04-17T11:34:33.545823Z"
    }
   },
   "outputs": [],
   "source": [
    "from owlrl import DeductiveClosure, OWLRL_Semantics\n",
    "from rdflib import *"
   ]
  },
  {
   "cell_type": "code",
   "execution_count": 2,
   "outputs": [],
   "source": [
    "ontology = Graph()\n",
    "ontology.parse(r'../ontologies/ontology_full.ttl')\n",
    "ontology.parse(r'../ontologies/BIGOWLData.owl')\n",
    "ontology.parse(r'../ontologies/BIGOWLProblems.owl')\n",
    "ontology.parse(r'../ontologies/BIGOWLAlgorithms.owl')\n",
    "ontology.parse(r'../ontologies/BIGOWLWorkflows.owl')\n",
    "ontology.parse(r'../dataset_annotator/penguins_annotated.ttl')\n",
    "ontology.parse(r'../dataset_annotator/titanic_annotated.ttl')\n",
    "DeductiveClosure(OWLRL_Semantics).expand(ontology)\n",
    "\n",
    "bigowl_data = Namespace('https://w3id.org/BIGOWLData/')\n",
    "bigowl_algorithms = Namespace('https://w3id.org/BIGOWLAlgorithms/')\n",
    "bigowl_problems = Namespace('https://w3id.org/BIGOWLProblems/')\n",
    "bigowl_workflows = Namespace('https://w3id.org/BIGOWLWorkflows/')\n",
    "do = Namespace('https://diviloper.dev/ontology#')\n",
    "abox = Namespace('https://diviloper.dev/ABox#')\n",
    "dmop = Namespace('http://www.e-lico.eu/ontologies/dmo/DMOP/DMOP.owl#')"
   ],
   "metadata": {
    "collapsed": false,
    "ExecuteTime": {
     "start_time": "2023-04-17T11:34:33.550900Z",
     "end_time": "2023-04-17T11:34:34.626466Z"
    }
   }
  },
  {
   "cell_type": "code",
   "execution_count": 3,
   "outputs": [
    {
     "data": {
      "text/plain": "<Graph identifier=Nc3f18f25529a41698f84e5b710dccf06 (<class 'rdflib.graph.Graph'>)>"
     },
     "execution_count": 3,
     "metadata": {},
     "output_type": "execute_result"
    }
   ],
   "source": [
    "graph = Graph()\n",
    "graph.parse(r'../pipeline_generator/Clustering1_0.ttl')"
   ],
   "metadata": {
    "collapsed": false,
    "ExecuteTime": {
     "start_time": "2023-04-17T11:34:34.627478Z",
     "end_time": "2023-04-17T11:34:34.641522Z"
    }
   }
  },
  {
   "cell_type": "code",
   "execution_count": 4,
   "outputs": [
    {
     "name": "stdout",
     "output_type": "stream",
     "text": [
      "ne192d9e903874764820a53091bce4a3db1 https://diviloper.dev/ontology#forParameter https://diviloper.dev/ontology#URL_Param\n",
      "https://diviloper.dev/ABox#wf/Clustering1/0/1 https://w3id.org/BIGOWLWorkflows/order 1\n",
      "ne192d9e903874764820a53091bce4a3db1 https://diviloper.dev/ontology#hasValue C:\\Users\\Victor\\Development\\BDMA\\Thesis\\Ontology\\dataset_annotator\\penguins.csv\n",
      "https://diviloper.dev/ABox#wf/Clustering1/0/2 https://w3id.org/BIGOWLWorkflows/order 2\n",
      "https://diviloper.dev/ABox#wf/Clustering1/0/1 http://www.w3.org/1999/02/22-rdf-syntax-ns#type https://w3id.org/BIGOWLWorkflows/Task\n",
      "https://diviloper.dev/ABox#wf/Clustering1/0/1 https://w3id.org/BIGOWLWorkflows/connectedTo https://diviloper.dev/ABox#wf/Clustering1/0/2\n",
      "https://diviloper.dev/ABox#wf/Clustering1/0/2 https://diviloper.dev/ontology#hasParameterValue ne192d9e903874764820a53091bce4a3db2\n",
      "https://diviloper.dev/ABox#wf/Clustering1/0 https://w3id.org/BIGOWLWorkflows/hasTask https://diviloper.dev/ABox#wf/Clustering1/0/2\n",
      "ne192d9e903874764820a53091bce4a3db2 https://diviloper.dev/ontology#forParameter https://diviloper.dev/ontology#KMeans:NumberOfClusters\n",
      "https://diviloper.dev/ABox#wf/Clustering1/0 https://w3id.org/BIGOWLWorkflows/hasTask https://diviloper.dev/ABox#wf/Clustering1/0/1\n",
      "https://diviloper.dev/ABox#wf/Clustering1/0/1 https://diviloper.dev/ontology#hasParameterValue ne192d9e903874764820a53091bce4a3db1\n",
      "ne192d9e903874764820a53091bce4a3db2 https://diviloper.dev/ontology#hasValue 3\n",
      "https://diviloper.dev/ABox#wf/Clustering1/0/2 http://www.w3.org/1999/02/22-rdf-syntax-ns#type https://w3id.org/BIGOWLWorkflows/Task\n",
      "https://diviloper.dev/ABox#wf/Clustering1/0 http://www.w3.org/1999/02/22-rdf-syntax-ns#type https://w3id.org/BIGOWLWorkflows/Workflow\n",
      "https://diviloper.dev/ABox#wf/Clustering1/0/1 https://w3id.org/BIGOWLWorkflows/hasComponent https://diviloper.dev/ontology#Import_CSV\n",
      "https://diviloper.dev/ABox#wf/Clustering1/0/2 https://w3id.org/BIGOWLWorkflows/hasComponent https://diviloper.dev/ontology#KMeansComponent\n"
     ]
    }
   ],
   "source": [
    "for s, p, o in graph:\n",
    "    print(s, p, o)"
   ],
   "metadata": {
    "collapsed": false,
    "ExecuteTime": {
     "start_time": "2023-04-17T11:34:34.644540Z",
     "end_time": "2023-04-17T11:34:34.703541Z"
    }
   }
  },
  {
   "cell_type": "code",
   "execution_count": 5,
   "outputs": [
    {
     "data": {
      "text/plain": "[{rdflib.term.Variable('task'): rdflib.term.URIRef('https://diviloper.dev/ABox#wf/Clustering1/0/1'), rdflib.term.Variable('component'): rdflib.term.URIRef('https://diviloper.dev/ontology#Import_CSV')},\n {rdflib.term.Variable('task'): rdflib.term.URIRef('https://diviloper.dev/ABox#wf/Clustering1/0/2'), rdflib.term.Variable('component'): rdflib.term.URIRef('https://diviloper.dev/ontology#KMeansComponent')}]"
     },
     "execution_count": 5,
     "metadata": {},
     "output_type": "execute_result"
    }
   ],
   "source": [
    "workflow_tasks = graph.query(f\"\"\"\n",
    "    PREFIX big_w: <{bigowl_workflows}>\n",
    "    SELECT ?task ?component\n",
    "    WHERE {{\n",
    "        ?task rdf:type big_w:Task ;\n",
    "            big_w:order ?order ;\n",
    "            big_w:hasComponent ?component .\n",
    "    }}\n",
    "    ORDER BY ?order\n",
    "\"\"\").bindings\n",
    "workflow_tasks"
   ],
   "metadata": {
    "collapsed": false,
    "ExecuteTime": {
     "start_time": "2023-04-17T11:34:34.663514Z",
     "end_time": "2023-04-17T11:34:34.800486Z"
    }
   }
  },
  {
   "cell_type": "code",
   "execution_count": 6,
   "outputs": [],
   "source": [
    "def get_implementation(component):\n",
    "    implementation = ontology.query(f\"\"\"\n",
    "        PREFIX big_w: <{bigowl_workflows}>\n",
    "        PREFIX big_a: <{bigowl_algorithms}>\n",
    "        PREFIX big_d: <{bigowl_data}>\n",
    "        SELECT ?implementation ?module ?function\n",
    "        WHERE {{\n",
    "            <{component}> big_w:hasImplementation ?implementation .\n",
    "            ?implementation big_w:implementationLanguage \"python\" ;\n",
    "                big_w:module ?module ;\n",
    "                big_w:function ?function .\n",
    "        }}\n",
    "    \"\"\").bindings[0]\n",
    "    return implementation\n",
    "\n",
    "\n",
    "def get_previous_tasks(task):\n",
    "    return graph.query(f\"\"\"\n",
    "        PREFIX big_w: <{bigowl_workflows}>\n",
    "        PREFIX do: <{do}>\n",
    "        SELECT ?previousTask\n",
    "        WHERE {{\n",
    "            ?previousTask big_w:connectedTo <{task}> .\n",
    "        }}\n",
    "    \"\"\").bindings\n",
    "\n",
    "\n",
    "def get_parameters(task):\n",
    "    return graph.query(f\"\"\"\n",
    "        PREFIX big_w: <{bigowl_workflows}>\n",
    "        PREFIX do: <{do}>\n",
    "        SELECT ?parameter ?value\n",
    "        WHERE {{\n",
    "            <{task}> do:hasParameterValue ?parameterValue .\n",
    "            ?parameterValue do:forParameter ?parameter ;\n",
    "                do:hasValue ?value .\n",
    "        }}\n",
    "    \"\"\").bindings\n",
    "\n",
    "\n",
    "def get_parameter_name(parameter):\n",
    "    return ontology.value(parameter, bigowl_workflows.hasName)\n",
    "\n",
    "\n",
    "def get_inputs(component):\n",
    "    return ontology.query(f\"\"\"\n",
    "        PREFIX big_w: <{bigowl_workflows}>\n",
    "        SELECT ?input\n",
    "        WHERE {{\n",
    "            <{component}> big_w:specifiesInputClass ?input .\n",
    "        }}\n",
    "    \"\"\").bindings\n",
    "\n",
    "\n",
    "def get_outputs(component):\n",
    "    return ontology.query(f\"\"\"\n",
    "        PREFIX big_w: <{bigowl_workflows}>\n",
    "        SELECT ?output\n",
    "        WHERE {{\n",
    "            <{component}> big_w:specifiesOutputClass ?output .\n",
    "        }}\n",
    "    \"\"\").bindings\n",
    "\n",
    "\n",
    "def get_python_literal(literal):\n",
    "    representation = literal.toPython()\n",
    "    if isinstance(representation, str):\n",
    "        return f'r\"{representation}\"'\n",
    "    return representation"
   ],
   "metadata": {
    "collapsed": false,
    "ExecuteTime": {
     "start_time": "2023-04-17T11:34:34.811469Z",
     "end_time": "2023-04-17T11:34:34.817523Z"
    }
   }
  },
  {
   "cell_type": "code",
   "execution_count": 19,
   "outputs": [],
   "source": [
    "imports = []\n",
    "script = []\n",
    "\n",
    "outputs = {}  # task -> [(name, type)*]\n",
    "\n",
    "for entry in workflow_tasks:\n",
    "    task = entry['task']\n",
    "    previous_tasks = get_previous_tasks(task)\n",
    "    component = entry['component']\n",
    "    implementation = get_implementation(component)\n",
    "    parameters = get_parameters(task)\n",
    "    task_input_types = get_inputs(component)\n",
    "    task_output_types = get_outputs(component)\n",
    "\n",
    "    task_python_var = task.split('#')[-1].replace('/', '_').replace('.', '_')\n",
    "\n",
    "    task_outputs = [(out['output'].split(\"#\")[-1].lower() + '_' + task_python_var, out['output']) for out in\n",
    "                    task_output_types]\n",
    "    outputs[task] = task_outputs\n",
    "\n",
    "    previous_outputs = {ptype: pname for previous in previous_tasks for pname, ptype in\n",
    "                        outputs[previous['previousTask']]}\n",
    "    task_inputs = [previous_outputs[ptype['input']] for ptype in task_input_types]\n",
    "    import_string = f'from {implementation[\"module\"]} import {implementation[\"function\"]}'\n",
    "\n",
    "    parameter_string = ', '.join(\n",
    "        (f'{get_parameter_name(param[\"parameter\"])}={get_python_literal(param[\"value\"])}' for param in parameters))\n",
    "    input_string = ', '.join(task_inputs)\n",
    "    result_string = ', '.join(name for name, _ in task_outputs)\n",
    "    call_string = f'{result_string} = {implementation[\"function\"]}({input_string}{\", \" if input_string else \"\"}{parameter_string})'\n",
    "    imports.append(import_string)\n",
    "    script.append(call_string)\n",
    "\n",
    "pipeline_script = '\\n'.join(imports) + '\\n\\n' + '\\n'.join(script)"
   ],
   "metadata": {
    "collapsed": false,
    "ExecuteTime": {
     "start_time": "2023-04-17T11:40:30.533958Z",
     "end_time": "2023-04-17T11:40:30.615061Z"
    }
   }
  },
  {
   "cell_type": "code",
   "execution_count": 20,
   "outputs": [],
   "source": [
    "with open('pipeline.py', 'w') as f:\n",
    "    f.write(pipeline_script)"
   ],
   "metadata": {
    "collapsed": false,
    "ExecuteTime": {
     "start_time": "2023-04-17T11:40:30.870230Z",
     "end_time": "2023-04-17T11:40:30.888358Z"
    }
   }
  },
  {
   "cell_type": "code",
   "execution_count": 130,
   "outputs": [
    {
     "name": "stdout",
     "output_type": "stream",
     "text": [
      "https://diviloper.dev/ontology#KMeansComponent https://w3id.org/BIGOWLWorkflows/hasImplementation https://diviloper.dev/ontology#SklearnKMeans\n",
      "https://diviloper.dev/ontology#Import_CSV https://w3id.org/BIGOWLWorkflows/hasImplementation https://diviloper.dev/ontology#PandasReadCSV\n"
     ]
    }
   ],
   "source": [
    "for s, p, o in ontology.triples((None, bigowl_workflows.hasImplementation, None)):\n",
    "    print(s, p, o)"
   ],
   "metadata": {
    "collapsed": false,
    "ExecuteTime": {
     "start_time": "2023-04-17T10:57:40.168267Z",
     "end_time": "2023-04-17T10:57:40.191917Z"
    }
   }
  },
  {
   "cell_type": "code",
   "execution_count": 132,
   "outputs": [
    {
     "data": {
      "text/plain": "  species     island  culmen_length_mm  culmen_depth_mm  flipper_length_mm  \\\n0  Adelie  Torgersen              39.1             18.7              181.0   \n1  Adelie  Torgersen              39.5             17.4              186.0   \n2  Adelie  Torgersen              40.3             18.0              195.0   \n3  Adelie  Torgersen               NaN              NaN                NaN   \n4  Adelie  Torgersen              36.7             19.3              193.0   \n\n   body_mass_g     sex  \n0       3750.0    MALE  \n1       3800.0  FEMALE  \n2       3250.0  FEMALE  \n3          NaN     NaN  \n4       3450.0  FEMALE  ",
      "text/html": "<div>\n<style scoped>\n    .dataframe tbody tr th:only-of-type {\n        vertical-align: middle;\n    }\n\n    .dataframe tbody tr th {\n        vertical-align: top;\n    }\n\n    .dataframe thead th {\n        text-align: right;\n    }\n</style>\n<table border=\"1\" class=\"dataframe\">\n  <thead>\n    <tr style=\"text-align: right;\">\n      <th></th>\n      <th>species</th>\n      <th>island</th>\n      <th>culmen_length_mm</th>\n      <th>culmen_depth_mm</th>\n      <th>flipper_length_mm</th>\n      <th>body_mass_g</th>\n      <th>sex</th>\n    </tr>\n  </thead>\n  <tbody>\n    <tr>\n      <th>0</th>\n      <td>Adelie</td>\n      <td>Torgersen</td>\n      <td>39.1</td>\n      <td>18.7</td>\n      <td>181.0</td>\n      <td>3750.0</td>\n      <td>MALE</td>\n    </tr>\n    <tr>\n      <th>1</th>\n      <td>Adelie</td>\n      <td>Torgersen</td>\n      <td>39.5</td>\n      <td>17.4</td>\n      <td>186.0</td>\n      <td>3800.0</td>\n      <td>FEMALE</td>\n    </tr>\n    <tr>\n      <th>2</th>\n      <td>Adelie</td>\n      <td>Torgersen</td>\n      <td>40.3</td>\n      <td>18.0</td>\n      <td>195.0</td>\n      <td>3250.0</td>\n      <td>FEMALE</td>\n    </tr>\n    <tr>\n      <th>3</th>\n      <td>Adelie</td>\n      <td>Torgersen</td>\n      <td>NaN</td>\n      <td>NaN</td>\n      <td>NaN</td>\n      <td>NaN</td>\n      <td>NaN</td>\n    </tr>\n    <tr>\n      <th>4</th>\n      <td>Adelie</td>\n      <td>Torgersen</td>\n      <td>36.7</td>\n      <td>19.3</td>\n      <td>193.0</td>\n      <td>3450.0</td>\n      <td>FEMALE</td>\n    </tr>\n  </tbody>\n</table>\n</div>"
     },
     "execution_count": 132,
     "metadata": {},
     "output_type": "execute_result"
    }
   ],
   "source": [
    "import pandas as pd\n",
    "\n",
    "dataset = pd.read_csv('../dataset_annotator/penguins.csv')\n",
    "dataset.head()"
   ],
   "metadata": {
    "collapsed": false,
    "ExecuteTime": {
     "start_time": "2023-04-17T10:59:11.946274Z",
     "end_time": "2023-04-17T10:59:11.987643Z"
    }
   }
  },
  {
   "cell_type": "code",
   "execution_count": 134,
   "outputs": [
    {
     "data": {
      "text/plain": "   culmen_length_mm  culmen_depth_mm  flipper_length_mm  body_mass_g\n0              39.1             18.7              181.0       3750.0\n1              39.5             17.4              186.0       3800.0\n2              40.3             18.0              195.0       3250.0\n4              36.7             19.3              193.0       3450.0\n5              39.3             20.6              190.0       3650.0",
      "text/html": "<div>\n<style scoped>\n    .dataframe tbody tr th:only-of-type {\n        vertical-align: middle;\n    }\n\n    .dataframe tbody tr th {\n        vertical-align: top;\n    }\n\n    .dataframe thead th {\n        text-align: right;\n    }\n</style>\n<table border=\"1\" class=\"dataframe\">\n  <thead>\n    <tr style=\"text-align: right;\">\n      <th></th>\n      <th>culmen_length_mm</th>\n      <th>culmen_depth_mm</th>\n      <th>flipper_length_mm</th>\n      <th>body_mass_g</th>\n    </tr>\n  </thead>\n  <tbody>\n    <tr>\n      <th>0</th>\n      <td>39.1</td>\n      <td>18.7</td>\n      <td>181.0</td>\n      <td>3750.0</td>\n    </tr>\n    <tr>\n      <th>1</th>\n      <td>39.5</td>\n      <td>17.4</td>\n      <td>186.0</td>\n      <td>3800.0</td>\n    </tr>\n    <tr>\n      <th>2</th>\n      <td>40.3</td>\n      <td>18.0</td>\n      <td>195.0</td>\n      <td>3250.0</td>\n    </tr>\n    <tr>\n      <th>4</th>\n      <td>36.7</td>\n      <td>19.3</td>\n      <td>193.0</td>\n      <td>3450.0</td>\n    </tr>\n    <tr>\n      <th>5</th>\n      <td>39.3</td>\n      <td>20.6</td>\n      <td>190.0</td>\n      <td>3650.0</td>\n    </tr>\n  </tbody>\n</table>\n</div>"
     },
     "execution_count": 134,
     "metadata": {},
     "output_type": "execute_result"
    }
   ],
   "source": [
    "dataset = dataset[dataset.select_dtypes(include=['number']).columns].dropna()\n",
    "dataset.head()"
   ],
   "metadata": {
    "collapsed": false,
    "ExecuteTime": {
     "start_time": "2023-04-17T10:59:23.731559Z",
     "end_time": "2023-04-17T10:59:23.764994Z"
    }
   }
  }
 ],
 "metadata": {
  "kernelspec": {
   "display_name": "Python 3",
   "language": "python",
   "name": "python3"
  },
  "language_info": {
   "codemirror_mode": {
    "name": "ipython",
    "version": 2
   },
   "file_extension": ".py",
   "mimetype": "text/x-python",
   "name": "python",
   "nbconvert_exporter": "python",
   "pygments_lexer": "ipython2",
   "version": "2.7.6"
  }
 },
 "nbformat": 4,
 "nbformat_minor": 0
}
