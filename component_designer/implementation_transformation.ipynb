{
 "cells": [
  {
   "cell_type": "code",
   "execution_count": 1,
   "metadata": {
    "collapsed": true,
    "ExecuteTime": {
     "end_time": "2023-05-30T07:32:36.013734600Z",
     "start_time": "2023-05-30T07:32:35.787645600Z"
    }
   },
   "outputs": [],
   "source": [
    "\n",
    "\n",
    "from rdflib import *"
   ]
  },
  {
   "cell_type": "code",
   "execution_count": 2,
   "outputs": [],
   "source": [
    "ontology = Graph()\n",
    "ontology.parse(r'../ontologies/ontology_full.ttl')\n",
    "\n",
    "dmop = Namespace('http://www.e-lico.eu/ontologies/dmo/DMOP/DMOP.owl#')\n",
    "bigowl_data = Namespace('https://w3id.org/BIGOWLData/')\n",
    "bigowl_algorithms = Namespace('https://w3id.org/BIGOWLAlgorithms/')\n",
    "bigowl_problems = Namespace('https://w3id.org/BIGOWLProblems/')\n",
    "bigowl_workflows = Namespace('https://w3id.org/BIGOWLWorkflows/')\n",
    "do = Namespace('https://diviloper.dev/ontology#')\n",
    "dc = Namespace('https://diviloper.dev/ontology/components#')\n",
    "dr = Namespace('https://diviloper.dev/ontology/restrictions#')\n",
    "dru = Namespace('https://diviloper.dev/ontology/rules#')\n",
    "da = Namespace('https://diviloper.dev/ABox#')\n",
    "\n",
    "\n",
    "def get_graph():\n",
    "    g = Graph()\n",
    "    g.bind('dmop', dmop)\n",
    "    g.bind('bod', bigowl_data)\n",
    "    g.bind('boa', bigowl_algorithms)\n",
    "    g.bind('bop', bigowl_problems)\n",
    "    g.bind('bow', bigowl_workflows)\n",
    "    g.bind('do', do)\n",
    "    g.bind('dc', dc)\n",
    "    g.bind('dr', dr)\n",
    "    g.bind('da', da)\n",
    "    return g"
   ],
   "metadata": {
    "collapsed": false,
    "ExecuteTime": {
     "end_time": "2023-05-30T07:32:36.057280200Z",
     "start_time": "2023-05-30T07:32:36.017277500Z"
    }
   }
  },
  {
   "cell_type": "code",
   "execution_count": 48,
   "outputs": [
    {
     "data": {
      "text/plain": "<Graph identifier=N9ec4ab166a3546e8ad69e3eca15b7659 (<class 'rdflib.graph.Graph'>)>"
     },
     "execution_count": 48,
     "metadata": {},
     "output_type": "execute_result"
    }
   ],
   "source": [
    "penguins = get_graph()\n",
    "penguins.parse(r'../dataset_annotator/penguins_annotated.ttl', format='turtle')"
   ],
   "metadata": {
    "collapsed": false,
    "ExecuteTime": {
     "end_time": "2023-05-30T08:19:16.401860300Z",
     "start_time": "2023-05-30T08:19:16.387865700Z"
    }
   }
  },
  {
   "cell_type": "code",
   "execution_count": 10,
   "outputs": [
    {
     "data": {
      "text/plain": "rdflib.term.URIRef('https://diviloper.dev/ABox#penguins.csv')"
     },
     "execution_count": 10,
     "metadata": {},
     "output_type": "execute_result"
    }
   ],
   "source": [
    "dataset_id = penguins.value(predicate=RDF.type, object=do.TabularDataset)\n",
    "dataset_id"
   ],
   "metadata": {
    "collapsed": false,
    "ExecuteTime": {
     "end_time": "2023-05-30T07:47:28.017056900Z",
     "start_time": "2023-05-30T07:47:27.966003Z"
    }
   }
  },
  {
   "cell_type": "code",
   "execution_count": 39,
   "outputs": [
    {
     "data": {
      "text/plain": "[]"
     },
     "execution_count": 39,
     "metadata": {},
     "output_type": "execute_result"
    }
   ],
   "source": [
    "penguins.query(f\"\"\"\n",
    "PREFIX bod: <{bigowl_data}>\n",
    "PREFIX div: <{do}>\n",
    "SELECT ?s ?p2 ?c\n",
    " WHERE {{\n",
    "    <{dataset_id}> bod:hasColumn ?c .\n",
    "    ?c div:containsNulls true .\n",
    "    ?c ?p ?o .\n",
    "    ?s ?p2 ?c .\n",
    "}}\n",
    "\"\"\").bindings"
   ],
   "metadata": {
    "collapsed": false,
    "ExecuteTime": {
     "end_time": "2023-05-30T08:11:56.139906100Z",
     "start_time": "2023-05-30T08:11:56.114689900Z"
    }
   }
  },
  {
   "cell_type": "code",
   "execution_count": 49,
   "outputs": [],
   "source": [
    "drop_null_columns_query = \"\"\"\n",
    "PREFIX bod: <https://w3id.org/BIGOWLData/>\n",
    "PREFIX div: <https://diviloper.dev/ontology#>\n",
    "DELETE\n",
    "{\n",
    "    ?c ?p ?o .\n",
    "    ?s ?p2 ?c .\n",
    "}\n",
    "WHERE\n",
    "{\n",
    "    <$output1> bod:hasColumn ?c .\n",
    "    ?c div:containsNulls true .\n",
    "    ?c ?p ?o .\n",
    "    ?s ?p2 ?c .\n",
    "}\n",
    "\"\"\""
   ],
   "metadata": {
    "collapsed": false,
    "ExecuteTime": {
     "end_time": "2023-05-30T08:19:17.937518300Z",
     "start_time": "2023-05-30T08:19:17.903161900Z"
    }
   }
  },
  {
   "cell_type": "code",
   "execution_count": null,
   "outputs": [],
   "source": [
    "drop_null_rows_query = f\"\"\"\n",
    "PREFIX bod: <{bigowl_data}>\n",
    "PREFIX div: <{do}>\n",
    "INSERT\n",
    "{{\n",
    "    ?c div:containsNulls false .\n",
    "}}\n",
    "DELETE\n",
    "{{\n",
    "    ?c div:containsNulls true .\n",
    "}}\n",
    "WHERE\n",
    "{{\n",
    "    <{dataset_id}> bod:hasColumn ?c .\n",
    "    ?c div:containsNulls true .\n",
    "}}\n",
    "\"\"\""
   ],
   "metadata": {
    "collapsed": false
   }
  },
  {
   "cell_type": "code",
   "execution_count": null,
   "outputs": [],
   "source": [
    "drop_null_column_query = \"\"\"\n",
    "PREFIX bod: <https://w3id.org/BIGOWLData/>\n",
    "PREFIX div: <https://diviloper.dev/ontology#>\n",
    "DELETE {\n",
    "    ?c ?p ?o .\n",
    "    ?s ?p2 ?c .\n",
    "}\n",
    "WHERE {\n",
    "    <$output1> bod:hasColumn ?c .\n",
    "    ?c bod:hasName \"$parameter1\".\n",
    "    ?c ?p ?o .\n",
    "    ?s ?p2 ?c .\n",
    "}\n",
    "\"\"\""
   ],
   "metadata": {
    "collapsed": false
   }
  },
  {
   "cell_type": "code",
   "execution_count": 50,
   "outputs": [],
   "source": [
    "penguins.update(drop_null_columns_query)"
   ],
   "metadata": {
    "collapsed": false,
    "ExecuteTime": {
     "end_time": "2023-05-30T08:19:18.199416300Z",
     "start_time": "2023-05-30T08:19:18.154360300Z"
    }
   }
  },
  {
   "cell_type": "code",
   "execution_count": 51,
   "outputs": [
    {
     "data": {
      "text/plain": "<Graph identifier=N9ec4ab166a3546e8ad69e3eca15b7659 (<class 'rdflib.graph.Graph'>)>"
     },
     "execution_count": 51,
     "metadata": {},
     "output_type": "execute_result"
    }
   ],
   "source": [
    "penguins.serialize(f'penguins_drop_null_columns.ttl')"
   ],
   "metadata": {
    "collapsed": false,
    "ExecuteTime": {
     "end_time": "2023-05-30T08:19:18.969678900Z",
     "start_time": "2023-05-30T08:19:18.928845600Z"
    }
   }
  }
 ],
 "metadata": {
  "kernelspec": {
   "display_name": "Python 3",
   "language": "python",
   "name": "python3"
  },
  "language_info": {
   "codemirror_mode": {
    "name": "ipython",
    "version": 2
   },
   "file_extension": ".py",
   "mimetype": "text/x-python",
   "name": "python",
   "nbconvert_exporter": "python",
   "pygments_lexer": "ipython2",
   "version": "2.7.6"
  }
 },
 "nbformat": 4,
 "nbformat_minor": 0
}
