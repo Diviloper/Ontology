{
 "cells": [
  {
   "cell_type": "code",
   "execution_count": 1,
   "metadata": {
    "collapsed": true,
    "ExecuteTime": {
     "start_time": "2023-04-20T09:38:28.475304Z",
     "end_time": "2023-04-20T09:38:29.617248Z"
    }
   },
   "outputs": [],
   "source": [
    "import csv\n",
    "from os import path\n",
    "\n",
    "import pandas as pd\n",
    "from rdflib import *"
   ]
  },
  {
   "cell_type": "code",
   "execution_count": 2,
   "outputs": [
    {
     "data": {
      "text/plain": "<Graph identifier=Na094027d5262407e9556e3928a360d83 (<class 'rdflib.graph.Graph'>)>"
     },
     "execution_count": 2,
     "metadata": {},
     "output_type": "execute_result"
    }
   ],
   "source": [
    "g = Graph()\n",
    "g.parse(r'../ontologies/ontology_turtle.ttl')\n",
    "g.parse(r'../ontologies/BIGOWLData.owl')\n",
    "g.parse(r'../ontologies/BIGOWLProblems.owl')\n",
    "g.parse(r'../ontologies/BIGOWLAlgorithms.owl')\n",
    "g.parse(r'../ontologies/BIGOWLWorkflows.owl')"
   ],
   "metadata": {
    "collapsed": false,
    "ExecuteTime": {
     "start_time": "2023-04-20T09:38:29.620248Z",
     "end_time": "2023-04-20T09:38:29.679249Z"
    }
   }
  },
  {
   "cell_type": "code",
   "execution_count": 3,
   "outputs": [],
   "source": [
    "dataset_path = r'./titanic.csv'\n",
    "csvfile = open(dataset_path, 'r')\n",
    "encoding = csvfile.encoding\n",
    "lines = [csvfile.readline() for i in range(50)]\n",
    "dialect = csv.Sniffer().sniff(''.join(lines))\n",
    "headers = csv.Sniffer().has_header(''.join(lines))\n",
    "csvfile.close()"
   ],
   "metadata": {
    "collapsed": false,
    "ExecuteTime": {
     "start_time": "2023-04-20T09:38:31.358126Z",
     "end_time": "2023-04-20T09:38:31.375429Z"
    }
   }
  },
  {
   "cell_type": "code",
   "execution_count": 4,
   "outputs": [],
   "source": [
    "df = pd.read_csv(r'./titanic.csv')"
   ],
   "metadata": {
    "collapsed": false,
    "ExecuteTime": {
     "start_time": "2023-04-20T09:38:31.574981Z",
     "end_time": "2023-04-20T09:38:31.593290Z"
    }
   }
  },
  {
   "cell_type": "code",
   "execution_count": 5,
   "outputs": [
    {
     "data": {
      "text/plain": "PassengerId      int64\nSurvived         int64\nPclass           int64\nName            object\nSex             object\nAge            float64\nSibSp            int64\nParch            int64\nTicket          object\nFare           float64\nCabin           object\nEmbarked        object\ndtype: object"
     },
     "execution_count": 5,
     "metadata": {},
     "output_type": "execute_result"
    }
   ],
   "source": [
    "df.dtypes"
   ],
   "metadata": {
    "collapsed": false
   }
  },
  {
   "cell_type": "code",
   "execution_count": 6,
   "outputs": [
    {
     "data": {
      "text/plain": "     PassengerId  Survived  Pclass  \\\n0              1         0       3   \n1              2         1       1   \n2              3         1       3   \n3              4         1       1   \n4              5         0       3   \n..           ...       ...     ...   \n886          887         0       2   \n887          888         1       1   \n888          889         0       3   \n889          890         1       1   \n890          891         0       3   \n\n                                                  Name     Sex   Age  SibSp  \\\n0                              Braund, Mr. Owen Harris    male  22.0      1   \n1    Cumings, Mrs. John Bradley (Florence Briggs Th...  female  38.0      1   \n2                               Heikkinen, Miss. Laina  female  26.0      0   \n3         Futrelle, Mrs. Jacques Heath (Lily May Peel)  female  35.0      1   \n4                             Allen, Mr. William Henry    male  35.0      0   \n..                                                 ...     ...   ...    ...   \n886                              Montvila, Rev. Juozas    male  27.0      0   \n887                       Graham, Miss. Margaret Edith  female  19.0      0   \n888           Johnston, Miss. Catherine Helen \"Carrie\"  female   NaN      1   \n889                              Behr, Mr. Karl Howell    male  26.0      0   \n890                                Dooley, Mr. Patrick    male  32.0      0   \n\n     Parch            Ticket     Fare Cabin Embarked  \n0        0         A/5 21171   7.2500   NaN        S  \n1        0          PC 17599  71.2833   C85        C  \n2        0  STON/O2. 3101282   7.9250   NaN        S  \n3        0            113803  53.1000  C123        S  \n4        0            373450   8.0500   NaN        S  \n..     ...               ...      ...   ...      ...  \n886      0            211536  13.0000   NaN        S  \n887      0            112053  30.0000   B42        S  \n888      2        W./C. 6607  23.4500   NaN        S  \n889      0            111369  30.0000  C148        C  \n890      0            370376   7.7500   NaN        Q  \n\n[891 rows x 12 columns]",
      "text/html": "<div>\n<style scoped>\n    .dataframe tbody tr th:only-of-type {\n        vertical-align: middle;\n    }\n\n    .dataframe tbody tr th {\n        vertical-align: top;\n    }\n\n    .dataframe thead th {\n        text-align: right;\n    }\n</style>\n<table border=\"1\" class=\"dataframe\">\n  <thead>\n    <tr style=\"text-align: right;\">\n      <th></th>\n      <th>PassengerId</th>\n      <th>Survived</th>\n      <th>Pclass</th>\n      <th>Name</th>\n      <th>Sex</th>\n      <th>Age</th>\n      <th>SibSp</th>\n      <th>Parch</th>\n      <th>Ticket</th>\n      <th>Fare</th>\n      <th>Cabin</th>\n      <th>Embarked</th>\n    </tr>\n  </thead>\n  <tbody>\n    <tr>\n      <th>0</th>\n      <td>1</td>\n      <td>0</td>\n      <td>3</td>\n      <td>Braund, Mr. Owen Harris</td>\n      <td>male</td>\n      <td>22.0</td>\n      <td>1</td>\n      <td>0</td>\n      <td>A/5 21171</td>\n      <td>7.2500</td>\n      <td>NaN</td>\n      <td>S</td>\n    </tr>\n    <tr>\n      <th>1</th>\n      <td>2</td>\n      <td>1</td>\n      <td>1</td>\n      <td>Cumings, Mrs. John Bradley (Florence Briggs Th...</td>\n      <td>female</td>\n      <td>38.0</td>\n      <td>1</td>\n      <td>0</td>\n      <td>PC 17599</td>\n      <td>71.2833</td>\n      <td>C85</td>\n      <td>C</td>\n    </tr>\n    <tr>\n      <th>2</th>\n      <td>3</td>\n      <td>1</td>\n      <td>3</td>\n      <td>Heikkinen, Miss. Laina</td>\n      <td>female</td>\n      <td>26.0</td>\n      <td>0</td>\n      <td>0</td>\n      <td>STON/O2. 3101282</td>\n      <td>7.9250</td>\n      <td>NaN</td>\n      <td>S</td>\n    </tr>\n    <tr>\n      <th>3</th>\n      <td>4</td>\n      <td>1</td>\n      <td>1</td>\n      <td>Futrelle, Mrs. Jacques Heath (Lily May Peel)</td>\n      <td>female</td>\n      <td>35.0</td>\n      <td>1</td>\n      <td>0</td>\n      <td>113803</td>\n      <td>53.1000</td>\n      <td>C123</td>\n      <td>S</td>\n    </tr>\n    <tr>\n      <th>4</th>\n      <td>5</td>\n      <td>0</td>\n      <td>3</td>\n      <td>Allen, Mr. William Henry</td>\n      <td>male</td>\n      <td>35.0</td>\n      <td>0</td>\n      <td>0</td>\n      <td>373450</td>\n      <td>8.0500</td>\n      <td>NaN</td>\n      <td>S</td>\n    </tr>\n    <tr>\n      <th>...</th>\n      <td>...</td>\n      <td>...</td>\n      <td>...</td>\n      <td>...</td>\n      <td>...</td>\n      <td>...</td>\n      <td>...</td>\n      <td>...</td>\n      <td>...</td>\n      <td>...</td>\n      <td>...</td>\n      <td>...</td>\n    </tr>\n    <tr>\n      <th>886</th>\n      <td>887</td>\n      <td>0</td>\n      <td>2</td>\n      <td>Montvila, Rev. Juozas</td>\n      <td>male</td>\n      <td>27.0</td>\n      <td>0</td>\n      <td>0</td>\n      <td>211536</td>\n      <td>13.0000</td>\n      <td>NaN</td>\n      <td>S</td>\n    </tr>\n    <tr>\n      <th>887</th>\n      <td>888</td>\n      <td>1</td>\n      <td>1</td>\n      <td>Graham, Miss. Margaret Edith</td>\n      <td>female</td>\n      <td>19.0</td>\n      <td>0</td>\n      <td>0</td>\n      <td>112053</td>\n      <td>30.0000</td>\n      <td>B42</td>\n      <td>S</td>\n    </tr>\n    <tr>\n      <th>888</th>\n      <td>889</td>\n      <td>0</td>\n      <td>3</td>\n      <td>Johnston, Miss. Catherine Helen \"Carrie\"</td>\n      <td>female</td>\n      <td>NaN</td>\n      <td>1</td>\n      <td>2</td>\n      <td>W./C. 6607</td>\n      <td>23.4500</td>\n      <td>NaN</td>\n      <td>S</td>\n    </tr>\n    <tr>\n      <th>889</th>\n      <td>890</td>\n      <td>1</td>\n      <td>1</td>\n      <td>Behr, Mr. Karl Howell</td>\n      <td>male</td>\n      <td>26.0</td>\n      <td>0</td>\n      <td>0</td>\n      <td>111369</td>\n      <td>30.0000</td>\n      <td>C148</td>\n      <td>C</td>\n    </tr>\n    <tr>\n      <th>890</th>\n      <td>891</td>\n      <td>0</td>\n      <td>3</td>\n      <td>Dooley, Mr. Patrick</td>\n      <td>male</td>\n      <td>32.0</td>\n      <td>0</td>\n      <td>0</td>\n      <td>370376</td>\n      <td>7.7500</td>\n      <td>NaN</td>\n      <td>Q</td>\n    </tr>\n  </tbody>\n</table>\n<p>891 rows × 12 columns</p>\n</div>"
     },
     "execution_count": 6,
     "metadata": {},
     "output_type": "execute_result"
    }
   ],
   "source": [
    "df"
   ],
   "metadata": {
    "collapsed": false
   }
  },
  {
   "cell_type": "code",
   "execution_count": 7,
   "outputs": [
    {
     "name": "stdout",
     "output_type": "stream",
     "text": [
      "Number of rows: 891\n",
      "Number of columns: 12\n"
     ]
    }
   ],
   "source": [
    "num_rows = len(df.index)\n",
    "num_cols = len(df.columns)\n",
    "print(f\"Number of rows: {num_rows}\")\n",
    "print(f\"Number of columns: {num_cols}\")"
   ],
   "metadata": {
    "collapsed": false
   }
  },
  {
   "cell_type": "code",
   "execution_count": 8,
   "outputs": [
    {
     "data": {
      "text/plain": "[('brick', rdflib.term.URIRef('https://brickschema.org/schema/Brick#')),\n ('csvw', rdflib.term.URIRef('http://www.w3.org/ns/csvw#')),\n ('dc', rdflib.term.URIRef('http://purl.org/dc/elements/1.1/')),\n ('dcat', rdflib.term.URIRef('http://www.w3.org/ns/dcat#')),\n ('dcmitype', rdflib.term.URIRef('http://purl.org/dc/dcmitype/')),\n ('dcterms', rdflib.term.URIRef('http://purl.org/dc/terms/')),\n ('dcam', rdflib.term.URIRef('http://purl.org/dc/dcam/')),\n ('doap', rdflib.term.URIRef('http://usefulinc.com/ns/doap#')),\n ('foaf', rdflib.term.URIRef('http://xmlns.com/foaf/0.1/')),\n ('geo', rdflib.term.URIRef('http://www.opengis.net/ont/geosparql#')),\n ('odrl', rdflib.term.URIRef('http://www.w3.org/ns/odrl/2/')),\n ('org', rdflib.term.URIRef('http://www.w3.org/ns/org#')),\n ('prof', rdflib.term.URIRef('http://www.w3.org/ns/dx/prof/')),\n ('prov', rdflib.term.URIRef('http://www.w3.org/ns/prov#')),\n ('qb', rdflib.term.URIRef('http://purl.org/linked-data/cube#')),\n ('schema', rdflib.term.URIRef('https://schema.org/')),\n ('sh', rdflib.term.URIRef('http://www.w3.org/ns/shacl#')),\n ('skos', rdflib.term.URIRef('http://www.w3.org/2004/02/skos/core#')),\n ('sosa', rdflib.term.URIRef('http://www.w3.org/ns/sosa/')),\n ('ssn', rdflib.term.URIRef('http://www.w3.org/ns/ssn/')),\n ('time', rdflib.term.URIRef('http://www.w3.org/2006/time#')),\n ('vann', rdflib.term.URIRef('http://purl.org/vocab/vann/')),\n ('void', rdflib.term.URIRef('http://rdfs.org/ns/void#')),\n ('wgs', rdflib.term.URIRef('https://www.w3.org/2003/01/geo/wgs84_pos#')),\n ('owl', rdflib.term.URIRef('http://www.w3.org/2002/07/owl#')),\n ('rdf', rdflib.term.URIRef('http://www.w3.org/1999/02/22-rdf-syntax-ns#')),\n ('rdfs', rdflib.term.URIRef('http://www.w3.org/2000/01/rdf-schema#')),\n ('xsd', rdflib.term.URIRef('http://www.w3.org/2001/XMLSchema#')),\n ('xml', rdflib.term.URIRef('http://www.w3.org/XML/1998/namespace')),\n ('boa', rdflib.term.URIRef('https://w3id.org/BIGOWLAlgorithms#')),\n ('bod', rdflib.term.URIRef('https://w3id.org/BIGOWLData#')),\n ('bop', rdflib.term.URIRef('https://w3id.org/BIGOWLProblems#')),\n ('bow', rdflib.term.URIRef('https://w3id.org/BIGOWLWorkflows#')),\n ('diviloper', rdflib.term.URIRef('http://diviloper.dev/ontology#')),\n ('', rdflib.term.URIRef('https://w3id.org/BIGOWLData/')),\n ('obda', rdflib.term.URIRef('https://w3id.org/obda/vocabulary#')),\n ('default1', rdflib.term.URIRef('https://w3id.org/BIGOWLProblems/')),\n ('default2', rdflib.term.URIRef('https://w3id.org/BIGOWLAlgorithms/')),\n ('default3', rdflib.term.URIRef('https://w3id.org/BIGOWLWorkflows/'))]"
     },
     "execution_count": 8,
     "metadata": {},
     "output_type": "execute_result"
    }
   ],
   "source": [
    "list(g.namespaces())"
   ],
   "metadata": {
    "collapsed": false
   }
  },
  {
   "cell_type": "code",
   "execution_count": 9,
   "outputs": [],
   "source": [
    "bigowl_data = Namespace('https://w3id.org/BIGOWLData/')\n",
    "bigowl_algorithms = Namespace('https://w3id.org/BIGOWLAlgorithms/')\n",
    "bigowl_problems = Namespace('https://w3id.org/BIGOWLProblems/')\n",
    "bigowl_workflows = Namespace('https://w3id.org/BIGOWLWorkflows/')\n",
    "diviloper = Namespace('https://diviloper.dev/ontology#')"
   ],
   "metadata": {
    "collapsed": false
   }
  },
  {
   "cell_type": "code",
   "execution_count": 10,
   "outputs": [
    {
     "name": "stdout",
     "output_type": "stream",
     "text": [
      "https://w3id.org/BIGOWLData/TabularDataset\n"
     ]
    }
   ],
   "source": [
    "print(bigowl_data.TabularDataset)"
   ],
   "metadata": {
    "collapsed": false
   }
  },
  {
   "cell_type": "code",
   "execution_count": 11,
   "outputs": [],
   "source": [
    "dataset_node = BNode()"
   ],
   "metadata": {
    "collapsed": false
   }
  },
  {
   "cell_type": "code",
   "execution_count": 12,
   "outputs": [
    {
     "data": {
      "text/plain": "<Graph identifier=N6172f87056654d4cb5e92cef4caa0d43 (<class 'rdflib.graph.Graph'>)>"
     },
     "execution_count": 12,
     "metadata": {},
     "output_type": "execute_result"
    }
   ],
   "source": [
    "g.add((dataset_node, RDF.type, bigowl_data.TabularDataset))"
   ],
   "metadata": {
    "collapsed": false
   }
  },
  {
   "cell_type": "code",
   "execution_count": 14,
   "outputs": [
    {
     "name": "stdout",
     "output_type": "stream",
     "text": [
      "https://w3id.org/BIGOWLData/hasColumn\n",
      "https://w3id.org/BIGOWLData/hasRow\n",
      "https://w3id.org/BIGOWLData/commentChar\n",
      "https://w3id.org/BIGOWLData/delimiter\n",
      "https://w3id.org/BIGOWLData/doubleQuote\n",
      "https://w3id.org/BIGOWLData/encoding\n",
      "https://w3id.org/BIGOWLData/escapeChar\n",
      "https://w3id.org/BIGOWLData/hasHeader\n",
      "https://w3id.org/BIGOWLData/lineDelimiter\n",
      "https://w3id.org/BIGOWLData/mapping\n",
      "https://w3id.org/BIGOWLData/numberOfColumns\n",
      "https://w3id.org/BIGOWLData/numberOfLines\n",
      "https://w3id.org/BIGOWLData/pathTabularDataset\n",
      "https://w3id.org/BIGOWLData/quoteChar\n",
      "https://w3id.org/BIGOWLData/quoting\n",
      "https://w3id.org/BIGOWLData/skipInitialSpace\n",
      "https://w3id.org/BIGOWLData/skiprows\n",
      "https://w3id.org/BIGOWLData/strict\n"
     ]
    }
   ],
   "source": [
    "for s, p, o in g.triples((None, RDFS.domain, bigowl_data.TabularDataset)):\n",
    "    print(f\"{s}\")"
   ],
   "metadata": {
    "collapsed": false
   }
  },
  {
   "cell_type": "code",
   "execution_count": 34,
   "outputs": [
    {
     "data": {
      "text/plain": "'\\r\\n'"
     },
     "execution_count": 34,
     "metadata": {},
     "output_type": "execute_result"
    }
   ],
   "source": [
    "dialect.lineterminator"
   ],
   "metadata": {
    "collapsed": false
   }
  },
  {
   "cell_type": "code",
   "execution_count": 85,
   "outputs": [
    {
     "data": {
      "text/plain": "','"
     },
     "execution_count": 85,
     "metadata": {},
     "output_type": "execute_result"
    }
   ],
   "source": [
    "g.add((dataset_node, bigowl_data.commentChar,))\n",
    "g.add((dataset_node, bigowl_data.delimiter, Literal(dialect.delimiter)))\n",
    "g.add((dataset_node, bigowl_data.doubleQuote, Literal(dialect.doublequote)))\n",
    "g.add((dataset_node, bigowl_data.encoding, Literal(encoding)))\n",
    "g.add((dataset_node, bigowl_data.escapeChar,))\n",
    "g.add((dataset_node, bigowl_data.hasHeader, Literal(headers)))\n",
    "g.add((dataset_node, bigowl_data.lineDelimiter, Literal(dialect.lineterminator)))\n",
    "g.add((dataset_node, bigowl_data.mapping,))\n",
    "g.add((dataset_node, bigowl_data.numberOfLines, Literal(num_rows)))\n",
    "g.add((dataset_node, bigowl_data.numberOfColumns, Literal(num_cols)))\n",
    "g.add((dataset_node, bigowl_data.pathTabularDataset, Literal(path.abspath(dataset_path))))\n",
    "g.add((dataset_node, bigowl_data.quoteChar, Literal(dialect.quotechar)))\n",
    "g.add((dataset_node, bigowl_data.quoting,))\n",
    "g.add((dataset_node, bigowl_data.skipInitialSpace, Literal(dialect.skipinitialspace)))\n",
    "g.add((dataset_node, bigowl_data.skiprows,))\n",
    "g.add((dataset_node, bigowl_data.strict,))"
   ],
   "metadata": {
    "collapsed": false
   }
  },
  {
   "cell_type": "code",
   "execution_count": 25,
   "outputs": [
    {
     "data": {
      "text/plain": "PassengerId      int64\nSurvived         int64\nPclass           int64\nName            object\nSex             object\nAge            float64\nSibSp            int64\nParch            int64\nTicket          object\nFare           float64\nCabin           object\nEmbarked        object\ndtype: object"
     },
     "execution_count": 25,
     "metadata": {},
     "output_type": "execute_result"
    }
   ],
   "source": [
    "df.dtypes"
   ],
   "metadata": {
    "collapsed": false
   }
  },
  {
   "cell_type": "code",
   "execution_count": 30,
   "outputs": [
    {
     "name": "stdout",
     "output_type": "stream",
     "text": [
      "http://diviloper.dev/ontology#isCategorical\n",
      "http://diviloper.dev/ontology#isUnique\n",
      "https://w3id.org/BIGOWLData/hasCellInColumn\n",
      "https://w3id.org/BIGOWLData/hasColumn\n",
      "https://w3id.org/BIGOWLData/hasDataPrimitiveTypeColumn\n",
      "https://w3id.org/BIGOWLData/hasColumnName\n",
      "https://w3id.org/BIGOWLData/hasPosition\n",
      "https://w3id.org/BIGOWLData/isLabel\n"
     ]
    }
   ],
   "source": [
    "for s, p, o in g.triples((None, None, bigowl_data.Column)):\n",
    "    print(f\"{s}\")"
   ],
   "metadata": {
    "collapsed": false
   }
  },
  {
   "cell_type": "code",
   "execution_count": 31,
   "outputs": [],
   "source": [
    "def get_column_type(column_type, column):\n",
    "    if column_type == 'int64':\n",
    "        return bigowl_data.Integer\n",
    "    elif column_type == 'float64':\n",
    "        return bigowl_data.Float\n",
    "    elif column_type == 'object':\n",
    "        if column.str.isnumeric().all():\n",
    "            return bigowl_data.Integer\n",
    "        else:\n",
    "            return bigowl_data.String\n",
    "    else:\n",
    "        return bigowl_data.String\n",
    "\n",
    "\n",
    "def has_nulls(column):\n",
    "    return column.isnull().values.any() or column.isna().values.any()\n",
    "\n",
    "\n",
    "def is_categorical(column_type, column):\n",
    "    if column_type != 'object' and column_type != 'int64':\n",
    "        return False\n",
    "    else:\n",
    "        return column.nunique() < column.size / 3\n",
    "\n",
    "\n",
    "def is_unique(column_type, column):\n",
    "    if column_type != 'object' and column_type != 'int64':\n",
    "        return False\n",
    "    else:\n",
    "        return column.nunique() == column.size"
   ],
   "metadata": {
    "collapsed": false
   }
  },
  {
   "cell_type": "code",
   "execution_count": 119,
   "outputs": [],
   "source": [
    "for col in df.columns:\n",
    "    print(df[col].dtype)\n",
    "    col_node = BNode()\n",
    "    g.add((dataset_node, bigowl_data.hasColumn, col_node))\n",
    "    g.add((col_node, RDF.type, bigowl_data.Column))\n",
    "    g.add((col_node, bigowl_data.hasColumnName, Literal(col)))\n",
    "    g.add((col_node, bigowl_data.hasDataPrimitiveTypeColumn, get_column_type(df[col].dtype.name, df[col])))\n",
    "    g.add((col_node, diviloper.isCategorical, Literal(is_categorical(df[col].dtype.name, df[col]))))\n",
    "    g.add((col_node, diviloper.isUnique, Literal(is_unique(df[col].dtype.name, df[col]))))\n",
    "    g.add((col_node, diviloper.containsNulls, Literal(has_nulls(df[col]))))\n",
    "    g.add((col_node, bigowl_data.hasPosition, Literal(df.columns.get_loc(col))))"
   ],
   "metadata": {
    "collapsed": false
   }
  },
  {
   "cell_type": "code",
   "execution_count": 33,
   "outputs": [
    {
     "name": "stdout",
     "output_type": "stream",
     "text": [
      "http://diviloper.dev/ABox#titanic.csv\n",
      "\thttp://www.w3.org/1999/02/22-rdf-syntax-ns#type\n",
      "\thttps://w3id.org/BIGOWLData/TabularDataset\n",
      "http://diviloper.dev/ABox#titanic.csv\n",
      "\thttps://w3id.org/BIGOWLData/delimiter\n",
      "\t,\n",
      "http://diviloper.dev/ABox#titanic.csv\n",
      "\thttps://w3id.org/BIGOWLData/doubleQuote\n",
      "\tfalse\n",
      "http://diviloper.dev/ABox#titanic.csv\n",
      "\thttps://w3id.org/BIGOWLData/encoding\n",
      "\tcp1252\n",
      "http://diviloper.dev/ABox#titanic.csv\n",
      "\thttps://w3id.org/BIGOWLData/hasColumn\n",
      "\thttp://diviloper.dev/ABox#titanic.csv/Age\n",
      "http://diviloper.dev/ABox#titanic.csv\n",
      "\thttps://w3id.org/BIGOWLData/hasColumn\n",
      "\thttp://diviloper.dev/ABox#titanic.csv/Cabin\n",
      "http://diviloper.dev/ABox#titanic.csv\n",
      "\thttps://w3id.org/BIGOWLData/hasColumn\n",
      "\thttp://diviloper.dev/ABox#titanic.csv/Embarked\n",
      "http://diviloper.dev/ABox#titanic.csv\n",
      "\thttps://w3id.org/BIGOWLData/hasColumn\n",
      "\thttp://diviloper.dev/ABox#titanic.csv/Fare\n",
      "http://diviloper.dev/ABox#titanic.csv\n",
      "\thttps://w3id.org/BIGOWLData/hasColumn\n",
      "\thttp://diviloper.dev/ABox#titanic.csv/Name\n",
      "http://diviloper.dev/ABox#titanic.csv\n",
      "\thttps://w3id.org/BIGOWLData/hasColumn\n",
      "\thttp://diviloper.dev/ABox#titanic.csv/Parch\n",
      "http://diviloper.dev/ABox#titanic.csv\n",
      "\thttps://w3id.org/BIGOWLData/hasColumn\n",
      "\thttp://diviloper.dev/ABox#titanic.csv/PassengerId\n",
      "http://diviloper.dev/ABox#titanic.csv\n",
      "\thttps://w3id.org/BIGOWLData/hasColumn\n",
      "\thttp://diviloper.dev/ABox#titanic.csv/Pclass\n",
      "http://diviloper.dev/ABox#titanic.csv\n",
      "\thttps://w3id.org/BIGOWLData/hasColumn\n",
      "\thttp://diviloper.dev/ABox#titanic.csv/Sex\n",
      "http://diviloper.dev/ABox#titanic.csv\n",
      "\thttps://w3id.org/BIGOWLData/hasColumn\n",
      "\thttp://diviloper.dev/ABox#titanic.csv/SibSp\n",
      "http://diviloper.dev/ABox#titanic.csv\n",
      "\thttps://w3id.org/BIGOWLData/hasColumn\n",
      "\thttp://diviloper.dev/ABox#titanic.csv/Survived\n",
      "http://diviloper.dev/ABox#titanic.csv\n",
      "\thttps://w3id.org/BIGOWLData/hasColumn\n",
      "\thttp://diviloper.dev/ABox#titanic.csv/Ticket\n",
      "http://diviloper.dev/ABox#titanic.csv\n",
      "\thttps://w3id.org/BIGOWLData/hasHeader\n",
      "\ttrue\n",
      "http://diviloper.dev/ABox#titanic.csv\n",
      "\thttps://w3id.org/BIGOWLData/lineDelimiter\n",
      "\t\r\n",
      "\n",
      "http://diviloper.dev/ABox#titanic.csv\n",
      "\thttps://w3id.org/BIGOWLData/numberOfColumns\n",
      "\t12\n",
      "http://diviloper.dev/ABox#titanic.csv\n",
      "\thttps://w3id.org/BIGOWLData/numberOfLines\n",
      "\t891\n",
      "http://diviloper.dev/ABox#titanic.csv\n",
      "\thttps://w3id.org/BIGOWLData/pathTabularDataset\n",
      "\tC:\\Users\\Victor\\Development\\BDMA\\Thesis\\DatasetAnnotator\\titanic.csv\n",
      "http://diviloper.dev/ABox#titanic.csv\n",
      "\thttps://w3id.org/BIGOWLData/quoteChar\n",
      "\t\"\n",
      "http://diviloper.dev/ABox#titanic.csv\n",
      "\thttps://w3id.org/BIGOWLData/skipInitialSpace\n",
      "\tfalse\n"
     ]
    }
   ],
   "source": [
    "dataset_graph = Graph()\n",
    "dataset_graph.parse(r'./dataset_annotated.ttl')\n",
    "abox = Namespace('http://diviloper.dev/ABox#')\n",
    "\n",
    "for s, p, o in dataset_graph.triples((abox.term('titanic.csv'), None, None)):\n",
    "    print(f\"{s}\\n\\t{p}\\n\\t{o}\")"
   ],
   "metadata": {
    "collapsed": false
   }
  }
 ],
 "metadata": {
  "kernelspec": {
   "display_name": "Python 3",
   "language": "python",
   "name": "python3"
  },
  "language_info": {
   "codemirror_mode": {
    "name": "ipython",
    "version": 2
   },
   "file_extension": ".py",
   "mimetype": "text/x-python",
   "name": "python",
   "nbconvert_exporter": "python",
   "pygments_lexer": "ipython2",
   "version": "2.7.6"
  }
 },
 "nbformat": 4,
 "nbformat_minor": 0
}
